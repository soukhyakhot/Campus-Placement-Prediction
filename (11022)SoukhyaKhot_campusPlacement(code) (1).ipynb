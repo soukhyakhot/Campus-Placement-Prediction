{
  "nbformat": 4,
  "nbformat_minor": 5,
  "metadata": {
    "colab": {
      "name": "(11022)SoukhyaKhot_campusPlacement(code).ipynb",
      "provenance": [],
      "collapsed_sections": [
        "54970fb2",
        "8d2f52bf",
        "9007305c",
        "34160109"
      ]
    },
    "kernelspec": {
      "display_name": "Python 3",
      "language": "python",
      "name": "python3"
    },
    "language_info": {
      "codemirror_mode": {
        "name": "ipython",
        "version": 3
      },
      "file_extension": ".py",
      "mimetype": "text/x-python",
      "name": "python",
      "nbconvert_exporter": "python",
      "pygments_lexer": "ipython3",
      "version": "3.8.11"
    }
  },
  "cells": [
    {
      "cell_type": "markdown",
      "metadata": {
        "id": "Hge7Js8MSXYC"
      },
      "source": [
        "# **Campus Placement Prediction**\n",
        "\n"
      ],
      "id": "Hge7Js8MSXYC"
    },
    {
      "cell_type": "markdown",
      "metadata": {
        "id": "7PzE6XZj-6WC"
      },
      "source": [
        "#**1. Importing Libraries**"
      ],
      "id": "7PzE6XZj-6WC"
    },
    {
      "cell_type": "code",
      "metadata": {
        "id": "985fecc8"
      },
      "source": [
        "import numpy as np\n",
        "import pandas as pd\n",
        "import statistics as st\n",
        "import matplotlib.pyplot as plt\n",
        "import seaborn as sns\n",
        "import warnings\n",
        "from sklearn.linear_model import LogisticRegression\n",
        "from sklearn.preprocessing import LabelEncoder\n",
        "from sklearn.model_selection import train_test_split\n",
        "from sklearn.tree import DecisionTreeClassifier\n",
        "from sklearn.neighbors import KNeighborsClassifier\n",
        "from sklearn import metrics\n",
        "from sklearn.ensemble import RandomForestClassifier\n",
        "%matplotlib inline\n"
      ],
      "id": "985fecc8",
      "execution_count": null,
      "outputs": []
    },
    {
      "cell_type": "markdown",
      "metadata": {
        "id": "Eksz3W0Z_JR-"
      },
      "source": [
        "#**2. Importing Dataset**"
      ],
      "id": "Eksz3W0Z_JR-"
    },
    {
      "cell_type": "code",
      "metadata": {
        "colab": {
          "resources": {
            "http://localhost:8080/nbextensions/google.colab/files.js": {
              "data": "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",
              "ok": true,
              "headers": [
                [
                  "content-type",
                  "application/javascript"
                ]
              ],
              "status": 200,
              "status_text": ""
            }
          },
          "base_uri": "https://localhost:8080/",
          "height": 73
        },
        "id": "48fa638f",
        "outputId": "3954a9b7-931f-4173-f5d0-a158539b18b6"
      },
      "source": [
        "from google.colab import files\n",
        "uploaded=files.upload()"
      ],
      "id": "48fa638f",
      "execution_count": null,
      "outputs": [
        {
          "output_type": "display_data",
          "data": {
            "text/html": [
              "\n",
              "     <input type=\"file\" id=\"files-9d1c94a1-2104-4ac8-b465-69d6dafc68a6\" name=\"files[]\" multiple disabled\n",
              "        style=\"border:none\" />\n",
              "     <output id=\"result-9d1c94a1-2104-4ac8-b465-69d6dafc68a6\">\n",
              "      Upload widget is only available when the cell has been executed in the\n",
              "      current browser session. Please rerun this cell to enable.\n",
              "      </output>\n",
              "      <script src=\"/nbextensions/google.colab/files.js\"></script> "
            ],
            "text/plain": [
              "<IPython.core.display.HTML object>"
            ]
          },
          "metadata": {}
        },
        {
          "output_type": "stream",
          "name": "stdout",
          "text": [
            "Saving Placement_Data_Full_Class.csv to Placement_Data_Full_Class (2).csv\n"
          ]
        }
      ]
    },
    {
      "cell_type": "code",
      "metadata": {
        "colab": {
          "base_uri": "https://localhost:8080/",
          "height": 206
        },
        "id": "cO-a7h-oRVOd",
        "outputId": "0553488d-24eb-4c61-b6fe-ee57955338cc"
      },
      "source": [
        "import io\n",
        "data=pd.read_csv(io.BytesIO(uploaded['Placement_Data_Full_Class.csv']))\n",
        "data.head()"
      ],
      "id": "cO-a7h-oRVOd",
      "execution_count": null,
      "outputs": [
        {
          "output_type": "execute_result",
          "data": {
            "text/html": [
              "<div>\n",
              "<style scoped>\n",
              "    .dataframe tbody tr th:only-of-type {\n",
              "        vertical-align: middle;\n",
              "    }\n",
              "\n",
              "    .dataframe tbody tr th {\n",
              "        vertical-align: top;\n",
              "    }\n",
              "\n",
              "    .dataframe thead th {\n",
              "        text-align: right;\n",
              "    }\n",
              "</style>\n",
              "<table border=\"1\" class=\"dataframe\">\n",
              "  <thead>\n",
              "    <tr style=\"text-align: right;\">\n",
              "      <th></th>\n",
              "      <th>sl_no</th>\n",
              "      <th>gender</th>\n",
              "      <th>ssc_p</th>\n",
              "      <th>ssc_b</th>\n",
              "      <th>hsc_p</th>\n",
              "      <th>hsc_b</th>\n",
              "      <th>hsc_s</th>\n",
              "      <th>degree_p</th>\n",
              "      <th>degree_t</th>\n",
              "      <th>workex</th>\n",
              "      <th>etest_p</th>\n",
              "      <th>specialisation</th>\n",
              "      <th>mba_p</th>\n",
              "      <th>status</th>\n",
              "      <th>salary</th>\n",
              "    </tr>\n",
              "  </thead>\n",
              "  <tbody>\n",
              "    <tr>\n",
              "      <th>0</th>\n",
              "      <td>1</td>\n",
              "      <td>M</td>\n",
              "      <td>67.00</td>\n",
              "      <td>Others</td>\n",
              "      <td>91.00</td>\n",
              "      <td>Others</td>\n",
              "      <td>Commerce</td>\n",
              "      <td>58.00</td>\n",
              "      <td>Sci&amp;Tech</td>\n",
              "      <td>No</td>\n",
              "      <td>55.0</td>\n",
              "      <td>Mkt&amp;HR</td>\n",
              "      <td>58.80</td>\n",
              "      <td>Placed</td>\n",
              "      <td>270000.0</td>\n",
              "    </tr>\n",
              "    <tr>\n",
              "      <th>1</th>\n",
              "      <td>2</td>\n",
              "      <td>M</td>\n",
              "      <td>79.33</td>\n",
              "      <td>Central</td>\n",
              "      <td>78.33</td>\n",
              "      <td>Others</td>\n",
              "      <td>Science</td>\n",
              "      <td>77.48</td>\n",
              "      <td>Sci&amp;Tech</td>\n",
              "      <td>Yes</td>\n",
              "      <td>86.5</td>\n",
              "      <td>Mkt&amp;Fin</td>\n",
              "      <td>66.28</td>\n",
              "      <td>Placed</td>\n",
              "      <td>200000.0</td>\n",
              "    </tr>\n",
              "    <tr>\n",
              "      <th>2</th>\n",
              "      <td>3</td>\n",
              "      <td>M</td>\n",
              "      <td>65.00</td>\n",
              "      <td>Central</td>\n",
              "      <td>68.00</td>\n",
              "      <td>Central</td>\n",
              "      <td>Arts</td>\n",
              "      <td>64.00</td>\n",
              "      <td>Comm&amp;Mgmt</td>\n",
              "      <td>No</td>\n",
              "      <td>75.0</td>\n",
              "      <td>Mkt&amp;Fin</td>\n",
              "      <td>57.80</td>\n",
              "      <td>Placed</td>\n",
              "      <td>250000.0</td>\n",
              "    </tr>\n",
              "    <tr>\n",
              "      <th>3</th>\n",
              "      <td>4</td>\n",
              "      <td>M</td>\n",
              "      <td>56.00</td>\n",
              "      <td>Central</td>\n",
              "      <td>52.00</td>\n",
              "      <td>Central</td>\n",
              "      <td>Science</td>\n",
              "      <td>52.00</td>\n",
              "      <td>Sci&amp;Tech</td>\n",
              "      <td>No</td>\n",
              "      <td>66.0</td>\n",
              "      <td>Mkt&amp;HR</td>\n",
              "      <td>59.43</td>\n",
              "      <td>Not Placed</td>\n",
              "      <td>NaN</td>\n",
              "    </tr>\n",
              "    <tr>\n",
              "      <th>4</th>\n",
              "      <td>5</td>\n",
              "      <td>M</td>\n",
              "      <td>85.80</td>\n",
              "      <td>Central</td>\n",
              "      <td>73.60</td>\n",
              "      <td>Central</td>\n",
              "      <td>Commerce</td>\n",
              "      <td>73.30</td>\n",
              "      <td>Comm&amp;Mgmt</td>\n",
              "      <td>No</td>\n",
              "      <td>96.8</td>\n",
              "      <td>Mkt&amp;Fin</td>\n",
              "      <td>55.50</td>\n",
              "      <td>Placed</td>\n",
              "      <td>425000.0</td>\n",
              "    </tr>\n",
              "  </tbody>\n",
              "</table>\n",
              "</div>"
            ],
            "text/plain": [
              "   sl_no gender  ssc_p    ssc_b  ...  specialisation  mba_p      status    salary\n",
              "0      1      M  67.00   Others  ...          Mkt&HR  58.80      Placed  270000.0\n",
              "1      2      M  79.33  Central  ...         Mkt&Fin  66.28      Placed  200000.0\n",
              "2      3      M  65.00  Central  ...         Mkt&Fin  57.80      Placed  250000.0\n",
              "3      4      M  56.00  Central  ...          Mkt&HR  59.43  Not Placed       NaN\n",
              "4      5      M  85.80  Central  ...         Mkt&Fin  55.50      Placed  425000.0\n",
              "\n",
              "[5 rows x 15 columns]"
            ]
          },
          "metadata": {},
          "execution_count": 3
        }
      ]
    },
    {
      "cell_type": "markdown",
      "metadata": {
        "id": "fJYwTNEMEAKN"
      },
      "source": [
        "###**Inference**"
      ],
      "id": "fJYwTNEMEAKN"
    },
    {
      "cell_type": "markdown",
      "metadata": {
        "id": "7pWBxV3wAVo-"
      },
      "source": [
        "\n",
        "\n",
        "*   Dataset consists of Gender, Educational Qualification and performance, status of placement and salary details.\n",
        "*   Here Status of placement is target variable and all other variables except salary are independent variable.\n",
        "\n"
      ],
      "id": "7pWBxV3wAVo-"
    },
    {
      "cell_type": "code",
      "metadata": {
        "colab": {
          "base_uri": "https://localhost:8080/"
        },
        "id": "1a826379",
        "outputId": "1e046f7c-b3c0-45ff-fef6-ca5a7d8e4cb7"
      },
      "source": [
        "data.shape"
      ],
      "id": "1a826379",
      "execution_count": null,
      "outputs": [
        {
          "output_type": "execute_result",
          "data": {
            "text/plain": [
              "(215, 15)"
            ]
          },
          "metadata": {},
          "execution_count": 4
        }
      ]
    },
    {
      "cell_type": "markdown",
      "metadata": {
        "id": "b2q_NA0cINFK"
      },
      "source": [
        "\n",
        "\n",
        "*   The Dataset consists of 215 Rows and 15 Columns\n",
        "\n",
        "\n",
        "\n",
        "\n"
      ],
      "id": "b2q_NA0cINFK"
    },
    {
      "cell_type": "code",
      "metadata": {
        "colab": {
          "base_uri": "https://localhost:8080/"
        },
        "id": "49ca0dba",
        "outputId": "021e74d1-e925-4f99-9ca9-2ccd167086aa"
      },
      "source": [
        "data.info()"
      ],
      "id": "49ca0dba",
      "execution_count": null,
      "outputs": [
        {
          "output_type": "stream",
          "name": "stdout",
          "text": [
            "<class 'pandas.core.frame.DataFrame'>\n",
            "RangeIndex: 215 entries, 0 to 214\n",
            "Data columns (total 15 columns):\n",
            " #   Column          Non-Null Count  Dtype  \n",
            "---  ------          --------------  -----  \n",
            " 0   sl_no           215 non-null    int64  \n",
            " 1   gender          215 non-null    object \n",
            " 2   ssc_p           215 non-null    float64\n",
            " 3   ssc_b           215 non-null    object \n",
            " 4   hsc_p           215 non-null    float64\n",
            " 5   hsc_b           215 non-null    object \n",
            " 6   hsc_s           215 non-null    object \n",
            " 7   degree_p        215 non-null    float64\n",
            " 8   degree_t        215 non-null    object \n",
            " 9   workex          215 non-null    object \n",
            " 10  etest_p         215 non-null    float64\n",
            " 11  specialisation  215 non-null    object \n",
            " 12  mba_p           215 non-null    float64\n",
            " 13  status          215 non-null    object \n",
            " 14  salary          148 non-null    float64\n",
            "dtypes: float64(6), int64(1), object(8)\n",
            "memory usage: 25.3+ KB\n"
          ]
        }
      ]
    },
    {
      "cell_type": "code",
      "metadata": {
        "colab": {
          "base_uri": "https://localhost:8080/"
        },
        "id": "bfaece1b",
        "outputId": "2db094c6-b8f7-408e-9105-32db65dbc1b5"
      },
      "source": [
        "print('Count of null values in each column:',data.isnull().sum(),sep='\\n')"
      ],
      "id": "bfaece1b",
      "execution_count": null,
      "outputs": [
        {
          "output_type": "stream",
          "name": "stdout",
          "text": [
            "Count of null values in each column:\n",
            "sl_no              0\n",
            "gender             0\n",
            "ssc_p              0\n",
            "ssc_b              0\n",
            "hsc_p              0\n",
            "hsc_b              0\n",
            "hsc_s              0\n",
            "degree_p           0\n",
            "degree_t           0\n",
            "workex             0\n",
            "etest_p            0\n",
            "specialisation     0\n",
            "mba_p              0\n",
            "status             0\n",
            "salary            67\n",
            "dtype: int64\n"
          ]
        }
      ]
    },
    {
      "cell_type": "markdown",
      "metadata": {
        "id": "_c-Ljj8ZKBuJ"
      },
      "source": [
        "*   Dataset has 1 integer, 8 object and 6 float datatypes.\n",
        "*   No other columns have missing values except salary column. \n",
        "  There are 148 non-null values in salary column i.e. 67 null values which shows that 67 candidates weren't placed.\n",
        "  * We can't drop these values as they give information on candidates who weren't placed.\n",
        "  * Imputing values with mean/median would be very wrong because candidates who weren't placed can't get salary.\n",
        "  * So we impute these values with 0. \n"
      ],
      "id": "_c-Ljj8ZKBuJ"
    },
    {
      "cell_type": "markdown",
      "metadata": {
        "id": "L0hZkbZRNHQ1"
      },
      "source": [
        "#**3. Data Cleaning**\n"
      ],
      "id": "L0hZkbZRNHQ1"
    },
    {
      "cell_type": "markdown",
      "metadata": {
        "id": "MI1Ay4hZgskK"
      },
      "source": [
        "####**a. Droping Serial Number**"
      ],
      "id": "MI1Ay4hZgskK"
    },
    {
      "cell_type": "code",
      "metadata": {
        "id": "53d47c3a",
        "scrolled": true
      },
      "source": [
        "data = data.drop('sl_no',axis=1)\n"
      ],
      "id": "53d47c3a",
      "execution_count": null,
      "outputs": []
    },
    {
      "cell_type": "markdown",
      "metadata": {
        "id": "N0Cf_pzGg1bp"
      },
      "source": [
        "####**b. Imputing null values in Salary column with 0**"
      ],
      "id": "N0Cf_pzGg1bp"
    },
    {
      "cell_type": "code",
      "metadata": {
        "colab": {
          "base_uri": "https://localhost:8080/"
        },
        "id": "sG2FKaVIgyCS",
        "outputId": "a71392d3-6946-4159-ec06-cb73c70b8a1b"
      },
      "source": [
        "data['salary'].fillna(0,inplace=True)\n",
        "data['salary'].isnull().sum()"
      ],
      "id": "sG2FKaVIgyCS",
      "execution_count": null,
      "outputs": [
        {
          "output_type": "execute_result",
          "data": {
            "text/plain": [
              "0"
            ]
          },
          "metadata": {},
          "execution_count": 8
        }
      ]
    },
    {
      "cell_type": "markdown",
      "metadata": {
        "id": "cx1p4rZqhxNb"
      },
      "source": [
        "####**c. Checking for outliers**"
      ],
      "id": "cx1p4rZqhxNb"
    },
    {
      "cell_type": "code",
      "metadata": {
        "colab": {
          "base_uri": "https://localhost:8080/",
          "height": 897
        },
        "id": "7JbqrYJ9iXlD",
        "outputId": "b80a2214-4640-4431-ddae-0eb31af3cbd1"
      },
      "source": [
        "plt.figure(figsize = (15, 15))\n",
        "\n",
        "ax=plt.subplot(321)\n",
        "plt.boxplot(data['ssc_p'])\n",
        "ax.set_title('Secondary Education percentage- 10th Grade')\n",
        "\n",
        "ax=plt.subplot(322)\n",
        "plt.boxplot(data['hsc_p'])\n",
        "ax.set_title('Higher Secondary Education percentage- 12th Grade')\n",
        "\n",
        "ax=plt.subplot(323)\n",
        "plt.boxplot(data['degree_p'])\n",
        "ax.set_title('UG Degree Percentage')\n",
        "\n",
        "ax=plt.subplot(324)\n",
        "plt.boxplot(data['etest_p'])\n",
        "ax.set_title('Employability test percentage ( conducted by college)')\n",
        "\n",
        "ax=plt.subplot(325)\n",
        "plt.boxplot(data['mba_p'])\n",
        "ax.set_title('MBA percentage')\n",
        "\n"
      ],
      "id": "7JbqrYJ9iXlD",
      "execution_count": null,
      "outputs": [
        {
          "output_type": "execute_result",
          "data": {
            "text/plain": [
              "Text(0.5, 1.0, 'MBA percentage')"
            ]
          },
          "metadata": {},
          "execution_count": 9
        },
        {
          "output_type": "display_data",
          "data": {
            "image/png": "[encoded data removed]",
            "text/plain": [
              "<Figure size 1080x1080 with 5 Axes>"
            ]
          },
          "metadata": {
            "needs_background": "light"
          }
        }
      ]
    },
    {
      "cell_type": "markdown",
      "metadata": {
        "id": "s1n_gRZdSDE1"
      },
      "source": [
        "**Here we can see that only hsc_p column has outliers.**"
      ],
      "id": "s1n_gRZdSDE1"
    },
    {
      "cell_type": "code",
      "metadata": {
        "colab": {
          "base_uri": "https://localhost:8080/",
          "height": 300
        },
        "id": "KM6uXLpe_wd_",
        "outputId": "f2164882-549f-489a-f486-0e19108df9b3"
      },
      "source": [
        "Q1 = data['hsc_p'].quantile(0.25)\n",
        "Q3 = data['hsc_p'].quantile(0.75)\n",
        "IQR = Q3 - Q1   \n",
        "\n",
        "data[(data['hsc_p'] <= Q1 - 1.5 * IQR) | (data['hsc_p'] >= Q3 + 1.5 *IQR)]\n",
        "\n"
      ],
      "id": "KM6uXLpe_wd_",
      "execution_count": null,
      "outputs": [
        {
          "output_type": "execute_result",
          "data": {
            "text/html": [
              "<div>\n",
              "<style scoped>\n",
              "    .dataframe tbody tr th:only-of-type {\n",
              "        vertical-align: middle;\n",
              "    }\n",
              "\n",
              "    .dataframe tbody tr th {\n",
              "        vertical-align: top;\n",
              "    }\n",
              "\n",
              "    .dataframe thead th {\n",
              "        text-align: right;\n",
              "    }\n",
              "</style>\n",
              "<table border=\"1\" class=\"dataframe\">\n",
              "  <thead>\n",
              "    <tr style=\"text-align: right;\">\n",
              "      <th></th>\n",
              "      <th>gender</th>\n",
              "      <th>ssc_p</th>\n",
              "      <th>ssc_b</th>\n",
              "      <th>hsc_p</th>\n",
              "      <th>hsc_b</th>\n",
              "      <th>hsc_s</th>\n",
              "      <th>degree_p</th>\n",
              "      <th>degree_t</th>\n",
              "      <th>workex</th>\n",
              "      <th>etest_p</th>\n",
              "      <th>specialisation</th>\n",
              "      <th>mba_p</th>\n",
              "      <th>status</th>\n",
              "      <th>salary</th>\n",
              "    </tr>\n",
              "  </thead>\n",
              "  <tbody>\n",
              "    <tr>\n",
              "      <th>24</th>\n",
              "      <td>M</td>\n",
              "      <td>76.50</td>\n",
              "      <td>Others</td>\n",
              "      <td>97.70</td>\n",
              "      <td>Others</td>\n",
              "      <td>Science</td>\n",
              "      <td>78.86</td>\n",
              "      <td>Sci&amp;Tech</td>\n",
              "      <td>No</td>\n",
              "      <td>97.40</td>\n",
              "      <td>Mkt&amp;Fin</td>\n",
              "      <td>74.01</td>\n",
              "      <td>Placed</td>\n",
              "      <td>360000.0</td>\n",
              "    </tr>\n",
              "    <tr>\n",
              "      <th>42</th>\n",
              "      <td>M</td>\n",
              "      <td>49.00</td>\n",
              "      <td>Others</td>\n",
              "      <td>39.00</td>\n",
              "      <td>Central</td>\n",
              "      <td>Science</td>\n",
              "      <td>65.00</td>\n",
              "      <td>Others</td>\n",
              "      <td>No</td>\n",
              "      <td>63.00</td>\n",
              "      <td>Mkt&amp;Fin</td>\n",
              "      <td>51.21</td>\n",
              "      <td>Not Placed</td>\n",
              "      <td>0.0</td>\n",
              "    </tr>\n",
              "    <tr>\n",
              "      <th>49</th>\n",
              "      <td>F</td>\n",
              "      <td>50.00</td>\n",
              "      <td>Others</td>\n",
              "      <td>37.00</td>\n",
              "      <td>Others</td>\n",
              "      <td>Arts</td>\n",
              "      <td>52.00</td>\n",
              "      <td>Others</td>\n",
              "      <td>No</td>\n",
              "      <td>65.00</td>\n",
              "      <td>Mkt&amp;HR</td>\n",
              "      <td>56.11</td>\n",
              "      <td>Not Placed</td>\n",
              "      <td>0.0</td>\n",
              "    </tr>\n",
              "    <tr>\n",
              "      <th>120</th>\n",
              "      <td>M</td>\n",
              "      <td>58.00</td>\n",
              "      <td>Others</td>\n",
              "      <td>40.00</td>\n",
              "      <td>Others</td>\n",
              "      <td>Science</td>\n",
              "      <td>59.00</td>\n",
              "      <td>Comm&amp;Mgmt</td>\n",
              "      <td>No</td>\n",
              "      <td>73.00</td>\n",
              "      <td>Mkt&amp;HR</td>\n",
              "      <td>58.81</td>\n",
              "      <td>Not Placed</td>\n",
              "      <td>0.0</td>\n",
              "    </tr>\n",
              "    <tr>\n",
              "      <th>134</th>\n",
              "      <td>F</td>\n",
              "      <td>77.44</td>\n",
              "      <td>Central</td>\n",
              "      <td>92.00</td>\n",
              "      <td>Others</td>\n",
              "      <td>Commerce</td>\n",
              "      <td>72.00</td>\n",
              "      <td>Comm&amp;Mgmt</td>\n",
              "      <td>Yes</td>\n",
              "      <td>94.00</td>\n",
              "      <td>Mkt&amp;Fin</td>\n",
              "      <td>67.13</td>\n",
              "      <td>Placed</td>\n",
              "      <td>250000.0</td>\n",
              "    </tr>\n",
              "    <tr>\n",
              "      <th>169</th>\n",
              "      <td>M</td>\n",
              "      <td>59.96</td>\n",
              "      <td>Others</td>\n",
              "      <td>42.16</td>\n",
              "      <td>Others</td>\n",
              "      <td>Science</td>\n",
              "      <td>61.26</td>\n",
              "      <td>Sci&amp;Tech</td>\n",
              "      <td>No</td>\n",
              "      <td>54.48</td>\n",
              "      <td>Mkt&amp;HR</td>\n",
              "      <td>65.48</td>\n",
              "      <td>Not Placed</td>\n",
              "      <td>0.0</td>\n",
              "    </tr>\n",
              "    <tr>\n",
              "      <th>177</th>\n",
              "      <td>F</td>\n",
              "      <td>73.00</td>\n",
              "      <td>Central</td>\n",
              "      <td>97.00</td>\n",
              "      <td>Others</td>\n",
              "      <td>Commerce</td>\n",
              "      <td>79.00</td>\n",
              "      <td>Comm&amp;Mgmt</td>\n",
              "      <td>Yes</td>\n",
              "      <td>89.00</td>\n",
              "      <td>Mkt&amp;Fin</td>\n",
              "      <td>70.81</td>\n",
              "      <td>Placed</td>\n",
              "      <td>650000.0</td>\n",
              "    </tr>\n",
              "    <tr>\n",
              "      <th>206</th>\n",
              "      <td>M</td>\n",
              "      <td>41.00</td>\n",
              "      <td>Central</td>\n",
              "      <td>42.00</td>\n",
              "      <td>Central</td>\n",
              "      <td>Science</td>\n",
              "      <td>60.00</td>\n",
              "      <td>Comm&amp;Mgmt</td>\n",
              "      <td>No</td>\n",
              "      <td>97.00</td>\n",
              "      <td>Mkt&amp;Fin</td>\n",
              "      <td>53.39</td>\n",
              "      <td>Not Placed</td>\n",
              "      <td>0.0</td>\n",
              "    </tr>\n",
              "  </tbody>\n",
              "</table>\n",
              "</div>"
            ],
            "text/plain": [
              "    gender  ssc_p    ssc_b  hsc_p  ... specialisation  mba_p      status    salary\n",
              "24       M  76.50   Others  97.70  ...        Mkt&Fin  74.01      Placed  360000.0\n",
              "42       M  49.00   Others  39.00  ...        Mkt&Fin  51.21  Not Placed       0.0\n",
              "49       F  50.00   Others  37.00  ...         Mkt&HR  56.11  Not Placed       0.0\n",
              "120      M  58.00   Others  40.00  ...         Mkt&HR  58.81  Not Placed       0.0\n",
              "134      F  77.44  Central  92.00  ...        Mkt&Fin  67.13      Placed  250000.0\n",
              "169      M  59.96   Others  42.16  ...         Mkt&HR  65.48  Not Placed       0.0\n",
              "177      F  73.00  Central  97.00  ...        Mkt&Fin  70.81      Placed  650000.0\n",
              "206      M  41.00  Central  42.00  ...        Mkt&Fin  53.39  Not Placed       0.0\n",
              "\n",
              "[8 rows x 14 columns]"
            ]
          },
          "metadata": {},
          "execution_count": 10
        }
      ]
    },
    {
      "cell_type": "markdown",
      "metadata": {
        "id": "OajGElgkAAce"
      },
      "source": [
        "These are the 8 outliers present in the hsc_p column. There is no need to do anything about them as they are true outliers."
      ],
      "id": "OajGElgkAAce"
    },
    {
      "cell_type": "markdown",
      "metadata": {
        "id": "91631a69"
      },
      "source": [
        "#**4. Data Visualisation**"
      ],
      "id": "91631a69"
    },
    {
      "cell_type": "markdown",
      "metadata": {
        "id": "KojV4PFue9Ix"
      },
      "source": [
        "####**a. Count of Categorical features**"
      ],
      "id": "KojV4PFue9Ix"
    },
    {
      "cell_type": "code",
      "metadata": {
        "colab": {
          "base_uri": "https://localhost:8080/",
          "height": 754
        },
        "id": "dtCbztJwf1n6",
        "outputId": "4e68a609-1856-4053-a3c0-ad6e68734c16"
      },
      "source": [
        "plt.figure(figsize = (15, 15))\n",
        " \n",
        " \n",
        " \n",
        "#Gender\n",
        "ax=plt.subplot(341)\n",
        "sns.countplot(x=\"gender\", data=data)\n",
        "ax.set_title('Gender')\n",
        " \n",
        "#ssc_b\n",
        "ax=plt.subplot(342)\n",
        "sns.countplot(x=\"ssc_b\", data=data)\n",
        "ax.set_title('ssc board')\n",
        " \n",
        "#hsc_b\n",
        "ax=plt.subplot(343)\n",
        "sns.countplot(x=\"hsc_b\", data=data)\n",
        "ax.set_title('hsc board')\n",
        " \n",
        " \n",
        "#hsc_s\n",
        "ax=plt.subplot(344)\n",
        "sns.countplot(x=\"hsc_s\", data=data)\n",
        "ax.set_title('hsc stream')\n",
        " \n",
        " \n",
        "#Degree type\n",
        "ax=plt.subplot(345)\n",
        "sns.countplot(x=\"degree_t\", data=data)\n",
        "ax.set_title('Degree type')\n",
        " \n",
        " \n",
        "#Work experience\n",
        "ax=plt.subplot(346)\n",
        "sns.countplot(x=\"workex\", data=data)\n",
        "ax.set_title('Work experience')\n",
        " \n",
        " \n",
        "#Specialisation\n",
        "ax=plt.subplot(347)\n",
        "sns.countplot(x=\"specialisation\", data=data)\n",
        "ax.set_title('Specialisation')\n",
        " \n",
        "#Status of recruitment\n",
        "ax=plt.subplot(348)\n",
        "sns.countplot(x=\"status\", data=data)\n",
        "ax.set_title('Status')\n",
        " \n",
        "plt.tight_layout()"
      ],
      "id": "dtCbztJwf1n6",
      "execution_count": null,
      "outputs": [
        {
          "output_type": "display_data",
          "data": {
            "image/png": "[encoded data removed]",
            "text/plain": [
              "<Figure size 1080x1080 with 8 Axes>"
            ]
          },
          "metadata": {
            "needs_background": "light"
          }
        }
      ]
    },
    {
      "cell_type": "markdown",
      "metadata": {
        "id": "O75JCOQesSo6"
      },
      "source": [
        "**Inference**\n",
        "\n",
        "\n",
        "*   Dataset has more male candidates than female.\n",
        "*   We can see that there are more candidates from central board in ssc and other boards in hsc.\n",
        "*   In hsc stream dataset has more candidates from commerce stream,then science and very few from arts.\n",
        "*   In degree type it has more candidates from commerce and management.\n",
        "*   Candidates with no work experience are more.\n",
        "*   In pg specialisation it has more candidates from Marketing and Finance.\n",
        "*   Most of the candidates from this dataset are placed .\n",
        "\n",
        "\n"
      ],
      "id": "O75JCOQesSo6"
    },
    {
      "cell_type": "markdown",
      "metadata": {
        "id": "8PhRvEINsSgR"
      },
      "source": [
        "####**b. Comparing proportions of people placed from each stream,degree type and specialisation**"
      ],
      "id": "8PhRvEINsSgR"
    },
    {
      "cell_type": "markdown",
      "metadata": {
        "id": "1J74HvjPONsX"
      },
      "source": [
        "\n",
        "\n",
        "*  **hsc stream**\n",
        "\n",
        "\n"
      ],
      "id": "1J74HvjPONsX"
    },
    {
      "cell_type": "code",
      "metadata": {
        "colab": {
          "base_uri": "https://localhost:8080/",
          "height": 281
        },
        "id": "AmhTVvl3GmCr",
        "outputId": "f9258dca-2dba-4739-f8e9-3c9fcb4f7b8b"
      },
      "source": [
        "\n",
        "stream=pd.crosstab(data.hsc_s,data.status)\n",
        "stream.div(stream.sum(1),axis=0).plot(kind=\"barh\", stacked=True,title='Proportion of Pleople placed in each hsc stream');\n",
        "plt.legend(bbox_to_anchor =(1, 1));\n"
      ],
      "id": "AmhTVvl3GmCr",
      "execution_count": null,
      "outputs": [
        {
          "output_type": "display_data",
          "data": {
            "image/png": "[encoded data removed]",
            "text/plain": [
              "<Figure size 432x288 with 1 Axes>"
            ]
          },
          "metadata": {
            "needs_background": "light"
          }
        }
      ]
    },
    {
      "cell_type": "markdown",
      "metadata": {
        "id": "9afZsoEMNkhA"
      },
      "source": [
        "**Inference**\n",
        "\n",
        "\n",
        "*   Proportion of people placed from science and commerce stream is almost same.\n",
        "*   Portion of people placed from arts stream is less as compared to science and commerce.\n",
        "\n"
      ],
      "id": "9afZsoEMNkhA"
    },
    {
      "cell_type": "markdown",
      "metadata": {
        "id": "4yPeCsERZT-Q"
      },
      "source": [
        "--------------------------------------------------------------------------------------------\n"
      ],
      "id": "4yPeCsERZT-Q"
    },
    {
      "cell_type": "markdown",
      "metadata": {
        "id": "nYP-unyBOcWO"
      },
      "source": [
        "* **Degree Type**"
      ],
      "id": "nYP-unyBOcWO"
    },
    {
      "cell_type": "code",
      "metadata": {
        "colab": {
          "base_uri": "https://localhost:8080/",
          "height": 281
        },
        "id": "6js6v9qUG--n",
        "outputId": "f586eb9a-4e02-43a1-ed67-83b3859293be"
      },
      "source": [
        "degree=pd.crosstab(data.degree_t,data.status)\n",
        "degree.div(degree.sum(1),axis=0).plot(kind=\"barh\", stacked=True,title='Proportion of Pleople placed in each degree type');\n",
        "plt.legend(bbox_to_anchor =(1, 1));"
      ],
      "id": "6js6v9qUG--n",
      "execution_count": null,
      "outputs": [
        {
          "output_type": "display_data",
          "data": {
            "image/png": "[encoded data removed]",
            "text/plain": [
              "<Figure size 432x288 with 1 Axes>"
            ]
          },
          "metadata": {
            "needs_background": "light"
          }
        }
      ]
    },
    {
      "cell_type": "markdown",
      "metadata": {
        "id": "75RIqCV3O6EN"
      },
      "source": [
        "**Inference**\n",
        "\n",
        "*   Proportion of people placed from Sci&Tech and Comm&Mgmt is almost same.\n",
        "*   Proportion of people placed from other degree is less as compared to Sci&Tech and Comm&Mgmt.\n",
        "\n"
      ],
      "id": "75RIqCV3O6EN"
    },
    {
      "cell_type": "markdown",
      "metadata": {
        "id": "x4BrzKUKZY-F"
      },
      "source": [
        "-------------------------------------------------------------------------------------------------"
      ],
      "id": "x4BrzKUKZY-F"
    },
    {
      "cell_type": "markdown",
      "metadata": {
        "id": "STJZbQ25Piv5"
      },
      "source": [
        "* **Specialisation**"
      ],
      "id": "STJZbQ25Piv5"
    },
    {
      "cell_type": "code",
      "metadata": {
        "colab": {
          "base_uri": "https://localhost:8080/",
          "height": 281
        },
        "id": "7iqkYOxUEf4F",
        "outputId": "053849ae-977c-4298-b9d3-9bac75d33f09"
      },
      "source": [
        "specialisation=pd.crosstab(data.specialisation,data.status)\n",
        "specialisation.div(specialisation.sum(1),axis=0).plot(kind=\"barh\", stacked=True,title='Proportion of Pleople placed in each specialisation');\n",
        "plt.legend(bbox_to_anchor =(1, 1));"
      ],
      "id": "7iqkYOxUEf4F",
      "execution_count": null,
      "outputs": [
        {
          "output_type": "display_data",
          "data": {
            "image/png": "[encoded data removed]",
            "text/plain": [
              "<Figure size 432x288 with 1 Axes>"
            ]
          },
          "metadata": {
            "needs_background": "light"
          }
        }
      ]
    },
    {
      "cell_type": "markdown",
      "metadata": {
        "id": "I1O12L99PqgK"
      },
      "source": [
        "**Inference**\n",
        "\n",
        "*   Proportion of people placed from Marketing & Finance is more as compared to Marketing & HR.\n",
        "\n"
      ],
      "id": "I1O12L99PqgK"
    },
    {
      "cell_type": "markdown",
      "metadata": {
        "id": "VWHuT6xWxK96"
      },
      "source": [
        "####**c. Salary Distribution**"
      ],
      "id": "VWHuT6xWxK96"
    },
    {
      "cell_type": "code",
      "metadata": {
        "colab": {
          "base_uri": "https://localhost:8080/"
        },
        "id": "558c9486",
        "outputId": "5dde0e0d-42e2-4e9c-b9b4-fc308891ba3d"
      },
      "source": [
        "print('Mean Salary:', st.mean(data['salary']))\n",
        "print('Median Salary:', st.median(data['salary']))\n",
        "print('Maximum Salary',data['salary'].max())\n",
        "\n"
      ],
      "id": "558c9486",
      "execution_count": null,
      "outputs": [
        {
          "output_type": "stream",
          "name": "stdout",
          "text": [
            "Mean Salary: 198702.32558139536\n",
            "Median Salary: 240000.0\n",
            "Maximum Salary 940000.0\n"
          ]
        }
      ]
    },
    {
      "cell_type": "code",
      "metadata": {
        "colab": {
          "base_uri": "https://localhost:8080/",
          "height": 369
        },
        "id": "_eFuKCeO4Eif",
        "outputId": "205f5d39-315b-4c4e-b0de-6044daee9a80"
      },
      "source": [
        "data_placed=data[data['status']=='Placed']\n",
        "sns.displot( data=data_placed,x=data_placed['salary'],kind=\"hist\",aspect=1.4);"
      ],
      "id": "_eFuKCeO4Eif",
      "execution_count": null,
      "outputs": [
        {
          "output_type": "display_data",
          "data": {
            "image/png": "[encoded data removed]",
            "text/plain": [
              "<Figure size 504x360 with 1 Axes>"
            ]
          },
          "metadata": {
            "needs_background": "light"
          }
        }
      ]
    },
    {
      "cell_type": "markdown",
      "metadata": {
        "id": "aZoDVFJkzAtA"
      },
      "source": [
        "####**Inference**\n",
        "\n",
        "*   Distribution of salary is positively skewed.\n",
        "*   Candidates having package between 2L-3L PA are more.\n",
        "*   Only one candidate got more than 9L PA.\n",
        "\n"
      ],
      "id": "aZoDVFJkzAtA"
    },
    {
      "cell_type": "markdown",
      "metadata": {
        "id": "083c44b4"
      },
      "source": [
        "####**d. How different factors influence a candidate in getting placed?**"
      ],
      "id": "083c44b4"
    },
    {
      "cell_type": "code",
      "metadata": {
        "colab": {
          "base_uri": "https://localhost:8080/",
          "height": 206
        },
        "id": "901423ca",
        "outputId": "587a8e66-02a4-4bea-bb2b-49a56d3e034b"
      },
      "source": [
        "data1=data.copy()\n",
        "cols = ['gender','ssc_b','hsc_b','hsc_s','degree_t','workex','specialisation','status']\n",
        "data1[cols] = data1[cols].apply(LabelEncoder().fit_transform)\n",
        "data1.head(5)"
      ],
      "id": "901423ca",
      "execution_count": null,
      "outputs": [
        {
          "output_type": "execute_result",
          "data": {
            "text/html": [
              "<div>\n",
              "<style scoped>\n",
              "    .dataframe tbody tr th:only-of-type {\n",
              "        vertical-align: middle;\n",
              "    }\n",
              "\n",
              "    .dataframe tbody tr th {\n",
              "        vertical-align: top;\n",
              "    }\n",
              "\n",
              "    .dataframe thead th {\n",
              "        text-align: right;\n",
              "    }\n",
              "</style>\n",
              "<table border=\"1\" class=\"dataframe\">\n",
              "  <thead>\n",
              "    <tr style=\"text-align: right;\">\n",
              "      <th></th>\n",
              "      <th>gender</th>\n",
              "      <th>ssc_p</th>\n",
              "      <th>ssc_b</th>\n",
              "      <th>hsc_p</th>\n",
              "      <th>hsc_b</th>\n",
              "      <th>hsc_s</th>\n",
              "      <th>degree_p</th>\n",
              "      <th>degree_t</th>\n",
              "      <th>workex</th>\n",
              "      <th>etest_p</th>\n",
              "      <th>specialisation</th>\n",
              "      <th>mba_p</th>\n",
              "      <th>status</th>\n",
              "      <th>salary</th>\n",
              "    </tr>\n",
              "  </thead>\n",
              "  <tbody>\n",
              "    <tr>\n",
              "      <th>0</th>\n",
              "      <td>1</td>\n",
              "      <td>67.00</td>\n",
              "      <td>1</td>\n",
              "      <td>91.00</td>\n",
              "      <td>1</td>\n",
              "      <td>1</td>\n",
              "      <td>58.00</td>\n",
              "      <td>2</td>\n",
              "      <td>0</td>\n",
              "      <td>55.0</td>\n",
              "      <td>1</td>\n",
              "      <td>58.80</td>\n",
              "      <td>1</td>\n",
              "      <td>270000.0</td>\n",
              "    </tr>\n",
              "    <tr>\n",
              "      <th>1</th>\n",
              "      <td>1</td>\n",
              "      <td>79.33</td>\n",
              "      <td>0</td>\n",
              "      <td>78.33</td>\n",
              "      <td>1</td>\n",
              "      <td>2</td>\n",
              "      <td>77.48</td>\n",
              "      <td>2</td>\n",
              "      <td>1</td>\n",
              "      <td>86.5</td>\n",
              "      <td>0</td>\n",
              "      <td>66.28</td>\n",
              "      <td>1</td>\n",
              "      <td>200000.0</td>\n",
              "    </tr>\n",
              "    <tr>\n",
              "      <th>2</th>\n",
              "      <td>1</td>\n",
              "      <td>65.00</td>\n",
              "      <td>0</td>\n",
              "      <td>68.00</td>\n",
              "      <td>0</td>\n",
              "      <td>0</td>\n",
              "      <td>64.00</td>\n",
              "      <td>0</td>\n",
              "      <td>0</td>\n",
              "      <td>75.0</td>\n",
              "      <td>0</td>\n",
              "      <td>57.80</td>\n",
              "      <td>1</td>\n",
              "      <td>250000.0</td>\n",
              "    </tr>\n",
              "    <tr>\n",
              "      <th>3</th>\n",
              "      <td>1</td>\n",
              "      <td>56.00</td>\n",
              "      <td>0</td>\n",
              "      <td>52.00</td>\n",
              "      <td>0</td>\n",
              "      <td>2</td>\n",
              "      <td>52.00</td>\n",
              "      <td>2</td>\n",
              "      <td>0</td>\n",
              "      <td>66.0</td>\n",
              "      <td>1</td>\n",
              "      <td>59.43</td>\n",
              "      <td>0</td>\n",
              "      <td>0.0</td>\n",
              "    </tr>\n",
              "    <tr>\n",
              "      <th>4</th>\n",
              "      <td>1</td>\n",
              "      <td>85.80</td>\n",
              "      <td>0</td>\n",
              "      <td>73.60</td>\n",
              "      <td>0</td>\n",
              "      <td>1</td>\n",
              "      <td>73.30</td>\n",
              "      <td>0</td>\n",
              "      <td>0</td>\n",
              "      <td>96.8</td>\n",
              "      <td>0</td>\n",
              "      <td>55.50</td>\n",
              "      <td>1</td>\n",
              "      <td>425000.0</td>\n",
              "    </tr>\n",
              "  </tbody>\n",
              "</table>\n",
              "</div>"
            ],
            "text/plain": [
              "   gender  ssc_p  ssc_b  hsc_p  ...  specialisation  mba_p  status    salary\n",
              "0       1  67.00      1  91.00  ...               1  58.80       1  270000.0\n",
              "1       1  79.33      0  78.33  ...               0  66.28       1  200000.0\n",
              "2       1  65.00      0  68.00  ...               0  57.80       1  250000.0\n",
              "3       1  56.00      0  52.00  ...               1  59.43       0       0.0\n",
              "4       1  85.80      0  73.60  ...               0  55.50       1  425000.0\n",
              "\n",
              "[5 rows x 14 columns]"
            ]
          },
          "metadata": {},
          "execution_count": 17
        }
      ]
    },
    {
      "cell_type": "code",
      "metadata": {
        "colab": {
          "base_uri": "https://localhost:8080/",
          "height": 545
        },
        "id": "b0ab74f9",
        "outputId": "d2551387-d64e-4fb4-97b6-e3a6da57fc0a"
      },
      "source": [
        "plt.figure(figsize = (12, 8))\n",
        "sns.heatmap(data1.corr(),annot=True)\n",
        "plt.show()\n"
      ],
      "id": "b0ab74f9",
      "execution_count": null,
      "outputs": [
        {
          "output_type": "display_data",
          "data": {
            "image/png": "[encoded data removed]",
            "text/plain": [
              "<Figure size 864x576 with 2 Axes>"
            ]
          },
          "metadata": {
            "needs_background": "light"
          }
        }
      ]
    },
    {
      "cell_type": "markdown",
      "metadata": {
        "id": "s7gOCHmFfD-u"
      },
      "source": [
        "\n",
        "Plot says that ssc %, degree % and hsc % are the most influencing factors in recruitment which is quite weird."
      ],
      "id": "s7gOCHmFfD-u"
    },
    {
      "cell_type": "markdown",
      "metadata": {
        "id": "e70ab2ba"
      },
      "source": [
        "####**e. Does board of hsc and ssc matter?**"
      ],
      "id": "e70ab2ba"
    },
    {
      "cell_type": "code",
      "metadata": {
        "colab": {
          "base_uri": "https://localhost:8080/",
          "height": 323
        },
        "id": "21248cf7",
        "outputId": "ce862318-2719-489e-a676-4306b002ad4a"
      },
      "source": [
        "\n",
        "hsc=pd.crosstab(data.hsc_b,data.status)\n",
        "hsc.div(hsc.sum(1),axis=0).plot(kind=\"bar\", stacked=True,title='hsc %');\n",
        "plt.legend(bbox_to_anchor =(1, 1));\n"
      ],
      "id": "21248cf7",
      "execution_count": null,
      "outputs": [
        {
          "output_type": "display_data",
          "data": {
            "image/png": "[encoded data removed]",
            "text/plain": [
              "<Figure size 432x288 with 1 Axes>"
            ]
          },
          "metadata": {
            "needs_background": "light"
          }
        }
      ]
    },
    {
      "cell_type": "code",
      "metadata": {
        "colab": {
          "base_uri": "https://localhost:8080/",
          "height": 323
        },
        "id": "Iozg-DMbAl4S",
        "outputId": "ae8633e9-75c9-4400-8ebe-646a624c51a7"
      },
      "source": [
        "ssc=pd.crosstab(data.ssc_b,data.status)\n",
        "ssc.div(ssc.sum(1),axis=0).plot(kind=\"bar\", stacked=True,title='ssc %');\n",
        "plt.legend(bbox_to_anchor =(1, 1));"
      ],
      "id": "Iozg-DMbAl4S",
      "execution_count": null,
      "outputs": [
        {
          "output_type": "display_data",
          "data": {
            "image/png": "[encoded data removed]",
            "text/plain": [
              "<Figure size 432x288 with 1 Axes>"
            ]
          },
          "metadata": {
            "needs_background": "light"
          }
        }
      ]
    },
    {
      "cell_type": "markdown",
      "metadata": {
        "id": "6UR2SXtv-yu3"
      },
      "source": [
        "**Inference**\n",
        "*  Proportion of candidates from Central and Others boards getting placed is more or less the same in hsc and ssc.\n",
        "*  So board of hsc and ssc doesn't matter recruitment process.\n",
        "* so we can drop these columns."
      ],
      "id": "6UR2SXtv-yu3"
    },
    {
      "cell_type": "markdown",
      "metadata": {
        "id": "77727488"
      },
      "source": [
        "####**f. Does work experience matter?**"
      ],
      "id": "77727488"
    },
    {
      "cell_type": "code",
      "metadata": {
        "colab": {
          "base_uri": "https://localhost:8080/",
          "height": 301
        },
        "id": "tpesnQ0NFWbW",
        "outputId": "99ab0437-10a8-41b9-85bc-77ff47e922e7"
      },
      "source": [
        "workex=pd.crosstab(data.workex,data.status)\n",
        "workex.div(workex.sum(1),axis=0).plot(kind=\"bar\", stacked=True,title='workex');\n",
        "plt.legend(bbox_to_anchor =(1, 1));\n"
      ],
      "id": "tpesnQ0NFWbW",
      "execution_count": null,
      "outputs": [
        {
          "output_type": "display_data",
          "data": {
            "image/png": "[encoded data removed]",
            "text/plain": [
              "<Figure size 432x288 with 1 Axes>"
            ]
          },
          "metadata": {
            "needs_background": "light"
          }
        }
      ]
    },
    {
      "cell_type": "markdown",
      "metadata": {
        "id": "P1q8lcJi1PuM"
      },
      "source": [
        "**Inference**\n",
        "\n",
        "\n",
        "*   Candidates with work experience have been placed more than those having no experience\n",
        "*   So here we can say that work experience helps in getting placed\n",
        "\n"
      ],
      "id": "P1q8lcJi1PuM"
    },
    {
      "cell_type": "markdown",
      "metadata": {
        "id": "szO64NRY3JBK"
      },
      "source": [
        "####**g. Is there any gender bias?**"
      ],
      "id": "szO64NRY3JBK"
    },
    {
      "cell_type": "code",
      "metadata": {
        "colab": {
          "base_uri": "https://localhost:8080/",
          "height": 278
        },
        "id": "Yy3zsUyG_yrv",
        "outputId": "5874127f-88ec-4344-bc0c-3fe7e4e5bae9"
      },
      "source": [
        "gender=pd.crosstab(data.gender,data.status)\n",
        "gender.div(gender.sum(1).astype(float),axis=0).plot(kind=\"bar\", stacked=True);\n",
        "plt.legend(bbox_to_anchor =(1, 1));"
      ],
      "id": "Yy3zsUyG_yrv",
      "execution_count": null,
      "outputs": [
        {
          "output_type": "display_data",
          "data": {
            "image/png": "[encoded data removed]",
            "text/plain": [
              "<Figure size 432x288 with 1 Axes>"
            ]
          },
          "metadata": {
            "needs_background": "light"
          }
        }
      ]
    },
    {
      "cell_type": "code",
      "metadata": {
        "colab": {
          "base_uri": "https://localhost:8080/"
        },
        "id": "HfR2YyvhdBDv",
        "outputId": "37f988f3-a618-423d-acf5-5af018c8e296"
      },
      "source": [
        "!pip install plotly_express "
      ],
      "id": "HfR2YyvhdBDv",
      "execution_count": null,
      "outputs": [
        {
          "output_type": "stream",
          "name": "stdout",
          "text": [
            "Collecting plotly_express\n",
            "  Downloading plotly_express-0.4.1-py2.py3-none-any.whl (2.9 kB)\n",
            "Requirement already satisfied: statsmodels>=0.9.0 in /usr/local/lib/python3.7/dist-packages (from plotly_express) (0.10.2)\n",
            "Requirement already satisfied: scipy>=0.18 in /usr/local/lib/python3.7/dist-packages (from plotly_express) (1.4.1)\n",
            "Requirement already satisfied: pandas>=0.20.0 in /usr/local/lib/python3.7/dist-packages (from plotly_express) (1.1.5)\n",
            "Requirement already satisfied: plotly>=4.1.0 in /usr/local/lib/python3.7/dist-packages (from plotly_express) (4.4.1)\n",
            "Requirement already satisfied: numpy>=1.11 in /usr/local/lib/python3.7/dist-packages (from plotly_express) (1.19.5)\n",
            "Requirement already satisfied: patsy>=0.5 in /usr/local/lib/python3.7/dist-packages (from plotly_express) (0.5.1)\n",
            "Requirement already satisfied: pytz>=2017.2 in /usr/local/lib/python3.7/dist-packages (from pandas>=0.20.0->plotly_express) (2018.9)\n",
            "Requirement already satisfied: python-dateutil>=2.7.3 in /usr/local/lib/python3.7/dist-packages (from pandas>=0.20.0->plotly_express) (2.8.2)\n",
            "Requirement already satisfied: six in /usr/local/lib/python3.7/dist-packages (from patsy>=0.5->plotly_express) (1.15.0)\n",
            "Requirement already satisfied: retrying>=1.3.3 in /usr/local/lib/python3.7/dist-packages (from plotly>=4.1.0->plotly_express) (1.3.3)\n",
            "Installing collected packages: plotly-express\n",
            "Successfully installed plotly-express-0.4.1\n"
          ]
        }
      ]
    },
    {
      "cell_type": "code",
      "metadata": {
        "colab": {
          "base_uri": "https://localhost:8080/",
          "height": 542
        },
        "id": "CZD-Mcpp4f-N",
        "outputId": "51fa281e-7ecf-4b43-e22b-df1911b6317c"
      },
      "source": [
        "\n",
        "import plotly_express as px\n",
        "px.violin(data_placed,y=\"salary\",x=\"specialisation\",color=\"gender\",box=True,points=\"all\")\n"
      ],
      "id": "CZD-Mcpp4f-N",
      "execution_count": null,
      "outputs": [
        {
          "output_type": "display_data",
          "data": {
            "text/html": [
              "<html>\n",
              "<head><meta charset=\"utf-8\" /></head>\n",
              "<body>\n",
              "    <div>\n",
              "            <script src=\"https://cdnjs.cloudflare.com/ajax/libs/mathjax/2.7.5/MathJax.js?config=TeX-AMS-MML_SVG\"></script><script type=\"text/javascript\">if (window.MathJax) {MathJax.Hub.Config({SVG: {font: \"STIX-Web\"}});}</script>\n",
              "                <script type=\"text/javascript\">window.PlotlyConfig = {MathJaxConfig: 'local'};</script>\n",
              "        <script src=\"https://cdn.plot.ly/plotly-latest.min.js\"></script>    \n",
              "            <div id=\"d8a9a813-5b31-41a5-94dd-7fd6a6c24d65\" class=\"plotly-graph-div\" style=\"height:525px; width:100%;\"></div>\n",
              "            <script type=\"text/javascript\">\n",
              "                \n",
              "                    window.PLOTLYENV=window.PLOTLYENV || {};\n",
              "                    \n",
              "                if (document.getElementById(\"d8a9a813-5b31-41a5-94dd-7fd6a6c24d65\")) {\n",
              "                    Plotly.newPlot(\n",
              "                        'd8a9a813-5b31-41a5-94dd-7fd6a6c24d65',\n",
              "                        [{\"alignmentgroup\": \"True\", \"box\": {\"visible\": true}, \"hoverlabel\": {\"namelength\": 0}, \"hovertemplate\": \"gender=M<br>specialisation=%{x}<br>salary=%{y}\", \"legendgroup\": \"gender=M\", \"marker\": {\"color\": \"#636efa\"}, \"name\": \"gender=M\", \"offsetgroup\": \"gender=M\", \"orientation\": \"v\", \"points\": \"all\", \"scalegroup\": \"True\", \"showlegend\": true, \"type\": \"violin\", \"x\": [\"Mkt&HR\", \"Mkt&Fin\", \"Mkt&Fin\", \"Mkt&Fin\", \"Mkt&Fin\", \"Mkt&Fin\", \"Mkt&HR\", \"Mkt&Fin\", \"Mkt&Fin\", \"Mkt&Fin\", \"Mkt&HR\", \"Mkt&Fin\", \"Mkt&Fin\", \"Mkt&HR\", \"Mkt&Fin\", \"Mkt&Fin\", \"Mkt&HR\", \"Mkt&Fin\", \"Mkt&Fin\", \"Mkt&HR\", \"Mkt&HR\", \"Mkt&Fin\", \"Mkt&Fin\", \"Mkt&Fin\", \"Mkt&Fin\", \"Mkt&Fin\", \"Mkt&Fin\", \"Mkt&Fin\", \"Mkt&HR\", \"Mkt&Fin\", \"Mkt&Fin\", \"Mkt&Fin\", \"Mkt&Fin\", \"Mkt&Fin\", \"Mkt&Fin\", \"Mkt&Fin\", \"Mkt&Fin\", \"Mkt&Fin\", \"Mkt&Fin\", \"Mkt&Fin\", \"Mkt&Fin\", \"Mkt&Fin\", \"Mkt&Fin\", \"Mkt&Fin\", \"Mkt&HR\", \"Mkt&HR\", \"Mkt&HR\", \"Mkt&HR\", \"Mkt&Fin\", \"Mkt&HR\", \"Mkt&HR\", \"Mkt&Fin\", \"Mkt&Fin\", \"Mkt&HR\", \"Mkt&Fin\", \"Mkt&HR\", \"Mkt&HR\", \"Mkt&HR\", \"Mkt&Fin\", \"Mkt&HR\", \"Mkt&HR\", \"Mkt&HR\", \"Mkt&Fin\", \"Mkt&Fin\", \"Mkt&Fin\", \"Mkt&Fin\", \"Mkt&HR\", \"Mkt&HR\", \"Mkt&Fin\", \"Mkt&Fin\", \"Mkt&Fin\", \"Mkt&Fin\", \"Mkt&Fin\", \"Mkt&HR\", \"Mkt&Fin\", \"Mkt&HR\", \"Mkt&Fin\", \"Mkt&Fin\", \"Mkt&HR\", \"Mkt&Fin\", \"Mkt&HR\", \"Mkt&Fin\", \"Mkt&HR\", \"Mkt&Fin\", \"Mkt&HR\", \"Mkt&Fin\", \"Mkt&Fin\", \"Mkt&Fin\", \"Mkt&HR\", \"Mkt&Fin\", \"Mkt&HR\", \"Mkt&Fin\", \"Mkt&HR\", \"Mkt&HR\", \"Mkt&Fin\", \"Mkt&Fin\", \"Mkt&Fin\", \"Mkt&Fin\", \"Mkt&Fin\", \"Mkt&Fin\"], \"x0\": \" \", \"xaxis\": \"x\", \"y\": [270000.0, 200000.0, 250000.0, 425000.0, 252000.0, 231000.0, 260000.0, 250000.0, 300000.0, 236000.0, 265000.0, 360000.0, 240000.0, 265000.0, 350000.0, 411000.0, 300000.0, 204000.0, 250000.0, 450000.0, 220000.0, 240000.0, 360000.0, 268000.0, 265000.0, 260000.0, 300000.0, 240000.0, 275000.0, 275000.0, 275000.0, 360000.0, 240000.0, 240000.0, 218000.0, 336000.0, 500000.0, 270000.0, 300000.0, 300000.0, 300000.0, 220000.0, 260000.0, 420000.0, 380000.0, 240000.0, 360000.0, 200000.0, 300000.0, 250000.0, 250000.0, 300000.0, 240000.0, 276000.0, 940000.0, 240000.0, 250000.0, 400000.0, 250000.0, 300000.0, 250000.0, 225000.0, 220000.0, 265000.0, 260000.0, 300000.0, 400000.0, 233000.0, 300000.0, 690000.0, 270000.0, 340000.0, 250000.0, 255000.0, 300000.0, 300000.0, 285000.0, 500000.0, 240000.0, 290000.0, 300000.0, 500000.0, 350000.0, 265000.0, 276000.0, 280000.0, 264000.0, 270000.0, 275000.0, 250000.0, 265000.0, 300000.0, 240000.0, 260000.0, 250000.0, 300000.0, 216000.0, 400000.0, 275000.0, 295000.0], \"y0\": \" \", \"yaxis\": \"y\"}, {\"alignmentgroup\": \"True\", \"box\": {\"visible\": true}, \"hoverlabel\": {\"namelength\": 0}, \"hovertemplate\": \"gender=F<br>specialisation=%{x}<br>salary=%{y}\", \"legendgroup\": \"gender=F\", \"marker\": {\"color\": \"#EF553B\"}, \"name\": \"gender=F\", \"offsetgroup\": \"gender=F\", \"orientation\": \"v\", \"points\": \"all\", \"scalegroup\": \"True\", \"showlegend\": true, \"type\": \"violin\", \"x\": [\"Mkt&Fin\", \"Mkt&Fin\", \"Mkt&Fin\", \"Mkt&HR\", \"Mkt&Fin\", \"Mkt&HR\", \"Mkt&HR\", \"Mkt&Fin\", \"Mkt&HR\", \"Mkt&HR\", \"Mkt&HR\", \"Mkt&Fin\", \"Mkt&Fin\", \"Mkt&HR\", \"Mkt&HR\", \"Mkt&Fin\", \"Mkt&Fin\", \"Mkt&HR\", \"Mkt&Fin\", \"Mkt&HR\", \"Mkt&HR\", \"Mkt&Fin\", \"Mkt&Fin\", \"Mkt&Fin\", \"Mkt&Fin\", \"Mkt&Fin\", \"Mkt&HR\", \"Mkt&Fin\", \"Mkt&Fin\", \"Mkt&HR\", \"Mkt&Fin\", \"Mkt&Fin\", \"Mkt&Fin\", \"Mkt&HR\", \"Mkt&Fin\", \"Mkt&Fin\", \"Mkt&HR\", \"Mkt&Fin\", \"Mkt&Fin\", \"Mkt&Fin\", \"Mkt&Fin\", \"Mkt&HR\", \"Mkt&Fin\", \"Mkt&HR\", \"Mkt&HR\", \"Mkt&HR\", \"Mkt&Fin\", \"Mkt&HR\"], \"x0\": \" \", \"xaxis\": \"x\", \"y\": [218000.0, 200000.0, 393000.0, 360000.0, 300000.0, 250000.0, 278000.0, 260000.0, 300000.0, 320000.0, 240000.0, 287000.0, 200000.0, 200000.0, 216000.0, 240000.0, 230000.0, 240000.0, 400000.0, 210000.0, 210000.0, 300000.0, 230000.0, 300000.0, 220000.0, 300000.0, 250000.0, 280000.0, 216000.0, 250000.0, 236000.0, 350000.0, 210000.0, 250000.0, 360000.0, 250000.0, 200000.0, 250000.0, 240000.0, 240000.0, 250000.0, 220000.0, 650000.0, 252000.0, 300000.0, 260000.0, 210000.0, 204000.0], \"y0\": \" \", \"yaxis\": \"y\"}],\n",
              "                        {\"legend\": {\"tracegroupgap\": 0}, \"margin\": {\"t\": 60}, \"template\": {\"data\": {\"bar\": [{\"error_x\": {\"color\": \"#2a3f5f\"}, \"error_y\": {\"color\": \"#2a3f5f\"}, \"marker\": {\"line\": {\"color\": \"#E5ECF6\", \"width\": 0.5}}, \"type\": \"bar\"}], \"barpolar\": [{\"marker\": {\"line\": {\"color\": \"#E5ECF6\", \"width\": 0.5}}, \"type\": \"barpolar\"}], \"carpet\": [{\"aaxis\": {\"endlinecolor\": \"#2a3f5f\", \"gridcolor\": \"white\", \"linecolor\": \"white\", \"minorgridcolor\": \"white\", \"startlinecolor\": \"#2a3f5f\"}, \"baxis\": {\"endlinecolor\": \"#2a3f5f\", \"gridcolor\": \"white\", \"linecolor\": \"white\", \"minorgridcolor\": \"white\", \"startlinecolor\": \"#2a3f5f\"}, \"type\": \"carpet\"}], \"choropleth\": [{\"colorbar\": {\"outlinewidth\": 0, \"ticks\": \"\"}, \"type\": \"choropleth\"}], \"contour\": [{\"colorbar\": {\"outlinewidth\": 0, \"ticks\": \"\"}, \"colorscale\": [[0.0, \"#0d0887\"], [0.1111111111111111, \"#46039f\"], [0.2222222222222222, \"#7201a8\"], [0.3333333333333333, \"#9c179e\"], [0.4444444444444444, \"#bd3786\"], [0.5555555555555556, \"#d8576b\"], [0.6666666666666666, \"#ed7953\"], [0.7777777777777778, \"#fb9f3a\"], [0.8888888888888888, \"#fdca26\"], [1.0, \"#f0f921\"]], \"type\": \"contour\"}], \"contourcarpet\": [{\"colorbar\": {\"outlinewidth\": 0, \"ticks\": \"\"}, \"type\": \"contourcarpet\"}], \"heatmap\": [{\"colorbar\": {\"outlinewidth\": 0, \"ticks\": \"\"}, \"colorscale\": [[0.0, \"#0d0887\"], [0.1111111111111111, \"#46039f\"], [0.2222222222222222, \"#7201a8\"], [0.3333333333333333, \"#9c179e\"], [0.4444444444444444, \"#bd3786\"], [0.5555555555555556, \"#d8576b\"], [0.6666666666666666, \"#ed7953\"], [0.7777777777777778, \"#fb9f3a\"], [0.8888888888888888, \"#fdca26\"], [1.0, \"#f0f921\"]], \"type\": \"heatmap\"}], \"heatmapgl\": [{\"colorbar\": {\"outlinewidth\": 0, \"ticks\": \"\"}, \"colorscale\": [[0.0, \"#0d0887\"], [0.1111111111111111, \"#46039f\"], [0.2222222222222222, \"#7201a8\"], [0.3333333333333333, \"#9c179e\"], [0.4444444444444444, \"#bd3786\"], [0.5555555555555556, \"#d8576b\"], [0.6666666666666666, \"#ed7953\"], [0.7777777777777778, \"#fb9f3a\"], [0.8888888888888888, \"#fdca26\"], [1.0, \"#f0f921\"]], \"type\": \"heatmapgl\"}], \"histogram\": [{\"marker\": {\"colorbar\": {\"outlinewidth\": 0, \"ticks\": \"\"}}, \"type\": \"histogram\"}], \"histogram2d\": [{\"colorbar\": {\"outlinewidth\": 0, \"ticks\": \"\"}, \"colorscale\": [[0.0, \"#0d0887\"], [0.1111111111111111, \"#46039f\"], [0.2222222222222222, \"#7201a8\"], [0.3333333333333333, \"#9c179e\"], [0.4444444444444444, \"#bd3786\"], [0.5555555555555556, \"#d8576b\"], [0.6666666666666666, \"#ed7953\"], [0.7777777777777778, \"#fb9f3a\"], [0.8888888888888888, \"#fdca26\"], [1.0, \"#f0f921\"]], \"type\": \"histogram2d\"}], \"histogram2dcontour\": [{\"colorbar\": {\"outlinewidth\": 0, \"ticks\": \"\"}, \"colorscale\": [[0.0, \"#0d0887\"], [0.1111111111111111, \"#46039f\"], [0.2222222222222222, \"#7201a8\"], [0.3333333333333333, \"#9c179e\"], [0.4444444444444444, \"#bd3786\"], [0.5555555555555556, \"#d8576b\"], [0.6666666666666666, \"#ed7953\"], [0.7777777777777778, \"#fb9f3a\"], [0.8888888888888888, \"#fdca26\"], [1.0, \"#f0f921\"]], \"type\": \"histogram2dcontour\"}], \"mesh3d\": [{\"colorbar\": {\"outlinewidth\": 0, \"ticks\": \"\"}, \"type\": \"mesh3d\"}], \"parcoords\": [{\"line\": {\"colorbar\": {\"outlinewidth\": 0, \"ticks\": \"\"}}, \"type\": \"parcoords\"}], \"pie\": [{\"automargin\": true, \"type\": \"pie\"}], \"scatter\": [{\"marker\": {\"colorbar\": {\"outlinewidth\": 0, \"ticks\": \"\"}}, \"type\": \"scatter\"}], \"scatter3d\": [{\"line\": {\"colorbar\": {\"outlinewidth\": 0, \"ticks\": \"\"}}, \"marker\": {\"colorbar\": {\"outlinewidth\": 0, \"ticks\": \"\"}}, \"type\": \"scatter3d\"}], \"scattercarpet\": [{\"marker\": {\"colorbar\": {\"outlinewidth\": 0, \"ticks\": \"\"}}, \"type\": \"scattercarpet\"}], \"scattergeo\": [{\"marker\": {\"colorbar\": {\"outlinewidth\": 0, \"ticks\": \"\"}}, \"type\": \"scattergeo\"}], \"scattergl\": [{\"marker\": {\"colorbar\": {\"outlinewidth\": 0, \"ticks\": \"\"}}, \"type\": \"scattergl\"}], \"scattermapbox\": [{\"marker\": {\"colorbar\": {\"outlinewidth\": 0, \"ticks\": \"\"}}, \"type\": \"scattermapbox\"}], \"scatterpolar\": [{\"marker\": {\"colorbar\": {\"outlinewidth\": 0, \"ticks\": \"\"}}, \"type\": \"scatterpolar\"}], \"scatterpolargl\": [{\"marker\": {\"colorbar\": {\"outlinewidth\": 0, \"ticks\": \"\"}}, \"type\": \"scatterpolargl\"}], \"scatterternary\": [{\"marker\": {\"colorbar\": {\"outlinewidth\": 0, \"ticks\": \"\"}}, \"type\": \"scatterternary\"}], \"surface\": [{\"colorbar\": {\"outlinewidth\": 0, \"ticks\": \"\"}, \"colorscale\": [[0.0, \"#0d0887\"], [0.1111111111111111, \"#46039f\"], [0.2222222222222222, \"#7201a8\"], [0.3333333333333333, \"#9c179e\"], [0.4444444444444444, \"#bd3786\"], [0.5555555555555556, \"#d8576b\"], [0.6666666666666666, \"#ed7953\"], [0.7777777777777778, \"#fb9f3a\"], [0.8888888888888888, \"#fdca26\"], [1.0, \"#f0f921\"]], \"type\": \"surface\"}], \"table\": [{\"cells\": {\"fill\": {\"color\": \"#EBF0F8\"}, \"line\": {\"color\": \"white\"}}, \"header\": {\"fill\": {\"color\": \"#C8D4E3\"}, \"line\": {\"color\": \"white\"}}, \"type\": \"table\"}]}, \"layout\": {\"annotationdefaults\": {\"arrowcolor\": \"#2a3f5f\", \"arrowhead\": 0, \"arrowwidth\": 1}, \"coloraxis\": {\"colorbar\": {\"outlinewidth\": 0, \"ticks\": \"\"}}, \"colorscale\": {\"diverging\": [[0, \"#8e0152\"], [0.1, \"#c51b7d\"], [0.2, \"#de77ae\"], [0.3, \"#f1b6da\"], [0.4, \"#fde0ef\"], [0.5, \"#f7f7f7\"], [0.6, \"#e6f5d0\"], [0.7, \"#b8e186\"], [0.8, \"#7fbc41\"], [0.9, \"#4d9221\"], [1, \"#276419\"]], \"sequential\": [[0.0, \"#0d0887\"], [0.1111111111111111, \"#46039f\"], [0.2222222222222222, \"#7201a8\"], [0.3333333333333333, \"#9c179e\"], [0.4444444444444444, \"#bd3786\"], [0.5555555555555556, \"#d8576b\"], [0.6666666666666666, \"#ed7953\"], [0.7777777777777778, \"#fb9f3a\"], [0.8888888888888888, \"#fdca26\"], [1.0, \"#f0f921\"]], \"sequentialminus\": [[0.0, \"#0d0887\"], [0.1111111111111111, \"#46039f\"], [0.2222222222222222, \"#7201a8\"], [0.3333333333333333, \"#9c179e\"], [0.4444444444444444, \"#bd3786\"], [0.5555555555555556, \"#d8576b\"], [0.6666666666666666, \"#ed7953\"], [0.7777777777777778, \"#fb9f3a\"], [0.8888888888888888, \"#fdca26\"], [1.0, \"#f0f921\"]]}, \"colorway\": [\"#636efa\", \"#EF553B\", \"#00cc96\", \"#ab63fa\", \"#FFA15A\", \"#19d3f3\", \"#FF6692\", \"#B6E880\", \"#FF97FF\", \"#FECB52\"], \"font\": {\"color\": \"#2a3f5f\"}, \"geo\": {\"bgcolor\": \"white\", \"lakecolor\": \"white\", \"landcolor\": \"#E5ECF6\", \"showlakes\": true, \"showland\": true, \"subunitcolor\": \"white\"}, \"hoverlabel\": {\"align\": \"left\"}, \"hovermode\": \"closest\", \"mapbox\": {\"style\": \"light\"}, \"paper_bgcolor\": \"white\", \"plot_bgcolor\": \"#E5ECF6\", \"polar\": {\"angularaxis\": {\"gridcolor\": \"white\", \"linecolor\": \"white\", \"ticks\": \"\"}, \"bgcolor\": \"#E5ECF6\", \"radialaxis\": {\"gridcolor\": \"white\", \"linecolor\": \"white\", \"ticks\": \"\"}}, \"scene\": {\"xaxis\": {\"backgroundcolor\": \"#E5ECF6\", \"gridcolor\": \"white\", \"gridwidth\": 2, \"linecolor\": \"white\", \"showbackground\": true, \"ticks\": \"\", \"zerolinecolor\": \"white\"}, \"yaxis\": {\"backgroundcolor\": \"#E5ECF6\", \"gridcolor\": \"white\", \"gridwidth\": 2, \"linecolor\": \"white\", \"showbackground\": true, \"ticks\": \"\", \"zerolinecolor\": \"white\"}, \"zaxis\": {\"backgroundcolor\": \"#E5ECF6\", \"gridcolor\": \"white\", \"gridwidth\": 2, \"linecolor\": \"white\", \"showbackground\": true, \"ticks\": \"\", \"zerolinecolor\": \"white\"}}, \"shapedefaults\": {\"line\": {\"color\": \"#2a3f5f\"}}, \"ternary\": {\"aaxis\": {\"gridcolor\": \"white\", \"linecolor\": \"white\", \"ticks\": \"\"}, \"baxis\": {\"gridcolor\": \"white\", \"linecolor\": \"white\", \"ticks\": \"\"}, \"bgcolor\": \"#E5ECF6\", \"caxis\": {\"gridcolor\": \"white\", \"linecolor\": \"white\", \"ticks\": \"\"}}, \"title\": {\"x\": 0.05}, \"xaxis\": {\"automargin\": true, \"gridcolor\": \"white\", \"linecolor\": \"white\", \"ticks\": \"\", \"title\": {\"standoff\": 15}, \"zerolinecolor\": \"white\", \"zerolinewidth\": 2}, \"yaxis\": {\"automargin\": true, \"gridcolor\": \"white\", \"linecolor\": \"white\", \"ticks\": \"\", \"title\": {\"standoff\": 15}, \"zerolinecolor\": \"white\", \"zerolinewidth\": 2}}}, \"violinmode\": \"group\", \"xaxis\": {\"anchor\": \"y\", \"domain\": [0.0, 1.0], \"title\": {\"text\": \"specialisation\"}}, \"yaxis\": {\"anchor\": \"x\", \"domain\": [0.0, 1.0], \"title\": {\"text\": \"salary\"}}},\n",
              "                        {\"responsive\": true}\n",
              "                    ).then(function(){\n",
              "                            \n",
              "var gd = document.getElementById('d8a9a813-5b31-41a5-94dd-7fd6a6c24d65');\n",
              "var x = new MutationObserver(function (mutations, observer) {{\n",
              "        var display = window.getComputedStyle(gd).display;\n",
              "        if (!display || display === 'none') {{\n",
              "            console.log([gd, 'removed!']);\n",
              "            Plotly.purge(gd);\n",
              "            observer.disconnect();\n",
              "        }}\n",
              "}});\n",
              "\n",
              "// Listen for the removal of the full notebook cells\n",
              "var notebookContainer = gd.closest('#notebook-container');\n",
              "if (notebookContainer) {{\n",
              "    x.observe(notebookContainer, {childList: true});\n",
              "}}\n",
              "\n",
              "// Listen for the clearing of the current output cell\n",
              "var outputEl = gd.closest('.output');\n",
              "if (outputEl) {{\n",
              "    x.observe(outputEl, {childList: true});\n",
              "}}\n",
              "\n",
              "                        })\n",
              "                };\n",
              "                \n",
              "            </script>\n",
              "        </div>\n",
              "</body>\n",
              "</html>"
            ]
          },
          "metadata": {}
        }
      ]
    },
    {
      "cell_type": "markdown",
      "metadata": {
        "id": "ee1licx2-4M_"
      },
      "source": [
        "**Inference**\n",
        "\n",
        "\n",
        "*   More male candidates were placed compared to female candidates\n",
        "*   The top salaries were given to male in both the specialisations.\n",
        "*   Most candidates got salary between 2L-3L across all genders and specialisations.\n",
        "\n",
        "\n",
        "\n"
      ],
      "id": "ee1licx2-4M_"
    },
    {
      "cell_type": "markdown",
      "metadata": {
        "id": "nrGxUIQgRGgz"
      },
      "source": [
        "####**h. Does percentage matter for one to get placed?**\n"
      ],
      "id": "nrGxUIQgRGgz"
    },
    {
      "cell_type": "markdown",
      "metadata": {
        "id": "z3sja8juTpJU"
      },
      "source": [
        "\n",
        "**SSC %**"
      ],
      "id": "z3sja8juTpJU"
    },
    {
      "cell_type": "code",
      "metadata": {
        "colab": {
          "base_uri": "https://localhost:8080/",
          "height": 295
        },
        "id": "b41bcfce",
        "outputId": "e25c2906-e182-49cb-aa13-dc3ce60ad398"
      },
      "source": [
        "data_notplaced=data[data.status=='Not Placed']\n",
        "plt.hist(data_placed.ssc_p,color='lightgreen')\n",
        "plt.hist(data_notplaced.ssc_p,alpha=0.7,color='skyblue')\n",
        "plt.xlabel('SSC %')\n",
        "plt.title('SSC %')\n",
        "plt.show()"
      ],
      "id": "b41bcfce",
      "execution_count": null,
      "outputs": [
        {
          "output_type": "display_data",
          "data": {
            "image/png": "[encoded data removed]",
            "text/plain": [
              "<Figure size 432x288 with 1 Axes>"
            ]
          },
          "metadata": {
            "needs_background": "light"
          }
        }
      ]
    },
    {
      "cell_type": "markdown",
      "metadata": {
        "id": "gLHief7cUuc5"
      },
      "source": [
        "**hsc %**"
      ],
      "id": "gLHief7cUuc5"
    },
    {
      "cell_type": "code",
      "metadata": {
        "colab": {
          "base_uri": "https://localhost:8080/",
          "height": 295
        },
        "id": "adde86f6",
        "outputId": "c5f5496d-2fb1-4cb5-e01b-4d4fc6a28724"
      },
      "source": [
        "plt.hist(data_placed.hsc_p,color='lightgreen')\n",
        "plt.hist(data_notplaced.hsc_p,alpha=0.7,color='skyblue')\n",
        "plt.xlabel('HSC %')\n",
        "plt.title('HSC %')\n",
        "plt.show()"
      ],
      "id": "adde86f6",
      "execution_count": null,
      "outputs": [
        {
          "output_type": "display_data",
          "data": {
            "image/png": "[encoded data removed]",
            "text/plain": [
              "<Figure size 432x288 with 1 Axes>"
            ]
          },
          "metadata": {
            "needs_background": "light"
          }
        }
      ]
    },
    {
      "cell_type": "markdown",
      "metadata": {
        "id": "uP9xOhgOUxcI"
      },
      "source": [
        "**Degree %**"
      ],
      "id": "uP9xOhgOUxcI"
    },
    {
      "cell_type": "code",
      "metadata": {
        "colab": {
          "base_uri": "https://localhost:8080/",
          "height": 295
        },
        "id": "1f4661e1",
        "outputId": "9741917d-2928-446f-a56c-b21452b6821d"
      },
      "source": [
        "plt.hist(data_placed.degree_p,color='lightgreen')\n",
        "plt.hist(data_notplaced.degree_p,alpha=0.7,color='skyblue')\n",
        "plt.xlabel('Degree %')\n",
        "plt.title('Degree %')\n",
        "plt.show()"
      ],
      "id": "1f4661e1",
      "execution_count": null,
      "outputs": [
        {
          "output_type": "display_data",
          "data": {
            "image/png": "[encoded data removed]",
            "text/plain": [
              "<Figure size 432x288 with 1 Axes>"
            ]
          },
          "metadata": {
            "needs_background": "light"
          }
        }
      ]
    },
    {
      "cell_type": "markdown",
      "metadata": {
        "id": "GIP6Hpe-VJb2"
      },
      "source": [
        "**Inference (ssc %, hsc %, degree %)**\n",
        "\n",
        "*   Candidates who has high score in ssc, hsc and undergrad got placed.\n",
        "*   But there are some candidates having low scores and getting placed and having high scores and not getting placed.\n",
        "\n"
      ],
      "id": "GIP6Hpe-VJb2"
    },
    {
      "cell_type": "markdown",
      "metadata": {
        "id": "6kPn3uC5XFGL"
      },
      "source": [
        "**MBA test %**"
      ],
      "id": "6kPn3uC5XFGL"
    },
    {
      "cell_type": "code",
      "metadata": {
        "colab": {
          "base_uri": "https://localhost:8080/",
          "height": 295
        },
        "id": "f410a9db",
        "outputId": "28ee868e-ae69-4cc4-ada5-96cbb639a790"
      },
      "source": [
        "plt.hist(data_placed.mba_p,color='lightgreen')\n",
        "plt.hist(data_notplaced.mba_p,alpha=0.7,color='skyblue')\n",
        "plt.xlabel('MBA test %')\n",
        "plt.title('MBA test %')\n",
        "plt.show()"
      ],
      "id": "f410a9db",
      "execution_count": null,
      "outputs": [
        {
          "output_type": "display_data",
          "data": {
            "image/png": "[encoded data removed]",
            "text/plain": [
              "<Figure size 432x288 with 1 Axes>"
            ]
          },
          "metadata": {
            "needs_background": "light"
          }
        }
      ]
    },
    {
      "cell_type": "markdown",
      "metadata": {
        "id": "ssNqjwk1Xivw"
      },
      "source": [
        "**Inference**\n",
        "*  Comparitively there's a slight difference between the percentage scores between both the groups, but still placed candidates has an upper hand when it comes to numbers. \n",
        "*  So as per the plot, MBA percentage does not influence the placement status."
      ],
      "id": "ssNqjwk1Xivw"
    },
    {
      "cell_type": "markdown",
      "metadata": {
        "id": "54970fb2"
      },
      "source": [
        "#**5. Data Preprocessing**"
      ],
      "id": "54970fb2"
    },
    {
      "cell_type": "markdown",
      "metadata": {
        "id": "EZRiUdg1STQN"
      },
      "source": [
        "####**a. Label Encoding** (for the categorical columns having only two types of classes)\n",
        "\n"
      ],
      "id": "EZRiUdg1STQN"
    },
    {
      "cell_type": "code",
      "metadata": {
        "colab": {
          "base_uri": "https://localhost:8080/",
          "height": 206
        },
        "id": "5382bfa3",
        "outputId": "eaa9c201-01d5-46a1-9121-586d46fa331c"
      },
      "source": [
        "cols = ['gender','workex','specialisation','status']\n",
        "data[cols]=data[cols].apply(LabelEncoder().fit_transform)\n",
        "data.head()"
      ],
      "id": "5382bfa3",
      "execution_count": null,
      "outputs": [
        {
          "output_type": "execute_result",
          "data": {
            "text/html": [
              "<div>\n",
              "<style scoped>\n",
              "    .dataframe tbody tr th:only-of-type {\n",
              "        vertical-align: middle;\n",
              "    }\n",
              "\n",
              "    .dataframe tbody tr th {\n",
              "        vertical-align: top;\n",
              "    }\n",
              "\n",
              "    .dataframe thead th {\n",
              "        text-align: right;\n",
              "    }\n",
              "</style>\n",
              "<table border=\"1\" class=\"dataframe\">\n",
              "  <thead>\n",
              "    <tr style=\"text-align: right;\">\n",
              "      <th></th>\n",
              "      <th>gender</th>\n",
              "      <th>ssc_p</th>\n",
              "      <th>ssc_b</th>\n",
              "      <th>hsc_p</th>\n",
              "      <th>hsc_b</th>\n",
              "      <th>hsc_s</th>\n",
              "      <th>degree_p</th>\n",
              "      <th>degree_t</th>\n",
              "      <th>workex</th>\n",
              "      <th>etest_p</th>\n",
              "      <th>specialisation</th>\n",
              "      <th>mba_p</th>\n",
              "      <th>status</th>\n",
              "      <th>salary</th>\n",
              "    </tr>\n",
              "  </thead>\n",
              "  <tbody>\n",
              "    <tr>\n",
              "      <th>0</th>\n",
              "      <td>1</td>\n",
              "      <td>67.00</td>\n",
              "      <td>Others</td>\n",
              "      <td>91.00</td>\n",
              "      <td>Others</td>\n",
              "      <td>Commerce</td>\n",
              "      <td>58.00</td>\n",
              "      <td>Sci&amp;Tech</td>\n",
              "      <td>0</td>\n",
              "      <td>55.0</td>\n",
              "      <td>1</td>\n",
              "      <td>58.80</td>\n",
              "      <td>1</td>\n",
              "      <td>270000.0</td>\n",
              "    </tr>\n",
              "    <tr>\n",
              "      <th>1</th>\n",
              "      <td>1</td>\n",
              "      <td>79.33</td>\n",
              "      <td>Central</td>\n",
              "      <td>78.33</td>\n",
              "      <td>Others</td>\n",
              "      <td>Science</td>\n",
              "      <td>77.48</td>\n",
              "      <td>Sci&amp;Tech</td>\n",
              "      <td>1</td>\n",
              "      <td>86.5</td>\n",
              "      <td>0</td>\n",
              "      <td>66.28</td>\n",
              "      <td>1</td>\n",
              "      <td>200000.0</td>\n",
              "    </tr>\n",
              "    <tr>\n",
              "      <th>2</th>\n",
              "      <td>1</td>\n",
              "      <td>65.00</td>\n",
              "      <td>Central</td>\n",
              "      <td>68.00</td>\n",
              "      <td>Central</td>\n",
              "      <td>Arts</td>\n",
              "      <td>64.00</td>\n",
              "      <td>Comm&amp;Mgmt</td>\n",
              "      <td>0</td>\n",
              "      <td>75.0</td>\n",
              "      <td>0</td>\n",
              "      <td>57.80</td>\n",
              "      <td>1</td>\n",
              "      <td>250000.0</td>\n",
              "    </tr>\n",
              "    <tr>\n",
              "      <th>3</th>\n",
              "      <td>1</td>\n",
              "      <td>56.00</td>\n",
              "      <td>Central</td>\n",
              "      <td>52.00</td>\n",
              "      <td>Central</td>\n",
              "      <td>Science</td>\n",
              "      <td>52.00</td>\n",
              "      <td>Sci&amp;Tech</td>\n",
              "      <td>0</td>\n",
              "      <td>66.0</td>\n",
              "      <td>1</td>\n",
              "      <td>59.43</td>\n",
              "      <td>0</td>\n",
              "      <td>0.0</td>\n",
              "    </tr>\n",
              "    <tr>\n",
              "      <th>4</th>\n",
              "      <td>1</td>\n",
              "      <td>85.80</td>\n",
              "      <td>Central</td>\n",
              "      <td>73.60</td>\n",
              "      <td>Central</td>\n",
              "      <td>Commerce</td>\n",
              "      <td>73.30</td>\n",
              "      <td>Comm&amp;Mgmt</td>\n",
              "      <td>0</td>\n",
              "      <td>96.8</td>\n",
              "      <td>0</td>\n",
              "      <td>55.50</td>\n",
              "      <td>1</td>\n",
              "      <td>425000.0</td>\n",
              "    </tr>\n",
              "  </tbody>\n",
              "</table>\n",
              "</div>"
            ],
            "text/plain": [
              "   gender  ssc_p    ssc_b  hsc_p  ... specialisation  mba_p  status    salary\n",
              "0       1  67.00   Others  91.00  ...              1  58.80       1  270000.0\n",
              "1       1  79.33  Central  78.33  ...              0  66.28       1  200000.0\n",
              "2       1  65.00  Central  68.00  ...              0  57.80       1  250000.0\n",
              "3       1  56.00  Central  52.00  ...              1  59.43       0       0.0\n",
              "4       1  85.80  Central  73.60  ...              0  55.50       1  425000.0\n",
              "\n",
              "[5 rows x 14 columns]"
            ]
          },
          "metadata": {},
          "execution_count": 29
        }
      ]
    },
    {
      "cell_type": "markdown",
      "metadata": {
        "id": "S-dl2LYPSxRV"
      },
      "source": [
        "####**b. One-hot Encoding** (for categorical columns having more than two types of classes)"
      ],
      "id": "S-dl2LYPSxRV"
    },
    {
      "cell_type": "code",
      "metadata": {
        "colab": {
          "base_uri": "https://localhost:8080/",
          "height": 383
        },
        "id": "55d107ca",
        "outputId": "605fe5b3-5bbb-4c3f-a164-2deeb8294d74"
      },
      "source": [
        "dummy_hsc_s=pd.get_dummies(data['hsc_s'],prefix='hsc')\n",
        "dummy_degree_t=pd.get_dummies(data['degree_t'],prefix='degree')\n",
        "\n",
        "data_final=pd.concat([data,dummy_hsc_s,dummy_degree_t],axis=1)\n",
        "data_final.drop(['hsc_s','degree_t','hsc_b','ssc_b','salary'],axis=1,inplace=True)\n",
        "data_final.head(10)"
      ],
      "id": "55d107ca",
      "execution_count": null,
      "outputs": [
        {
          "output_type": "execute_result",
          "data": {
            "text/html": [
              "<div>\n",
              "<style scoped>\n",
              "    .dataframe tbody tr th:only-of-type {\n",
              "        vertical-align: middle;\n",
              "    }\n",
              "\n",
              "    .dataframe tbody tr th {\n",
              "        vertical-align: top;\n",
              "    }\n",
              "\n",
              "    .dataframe thead th {\n",
              "        text-align: right;\n",
              "    }\n",
              "</style>\n",
              "<table border=\"1\" class=\"dataframe\">\n",
              "  <thead>\n",
              "    <tr style=\"text-align: right;\">\n",
              "      <th></th>\n",
              "      <th>gender</th>\n",
              "      <th>ssc_p</th>\n",
              "      <th>hsc_p</th>\n",
              "      <th>degree_p</th>\n",
              "      <th>workex</th>\n",
              "      <th>etest_p</th>\n",
              "      <th>specialisation</th>\n",
              "      <th>mba_p</th>\n",
              "      <th>status</th>\n",
              "      <th>hsc_Arts</th>\n",
              "      <th>hsc_Commerce</th>\n",
              "      <th>hsc_Science</th>\n",
              "      <th>degree_Comm&amp;Mgmt</th>\n",
              "      <th>degree_Others</th>\n",
              "      <th>degree_Sci&amp;Tech</th>\n",
              "    </tr>\n",
              "  </thead>\n",
              "  <tbody>\n",
              "    <tr>\n",
              "      <th>0</th>\n",
              "      <td>1</td>\n",
              "      <td>67.00</td>\n",
              "      <td>91.00</td>\n",
              "      <td>58.00</td>\n",
              "      <td>0</td>\n",
              "      <td>55.00</td>\n",
              "      <td>1</td>\n",
              "      <td>58.80</td>\n",
              "      <td>1</td>\n",
              "      <td>0</td>\n",
              "      <td>1</td>\n",
              "      <td>0</td>\n",
              "      <td>0</td>\n",
              "      <td>0</td>\n",
              "      <td>1</td>\n",
              "    </tr>\n",
              "    <tr>\n",
              "      <th>1</th>\n",
              "      <td>1</td>\n",
              "      <td>79.33</td>\n",
              "      <td>78.33</td>\n",
              "      <td>77.48</td>\n",
              "      <td>1</td>\n",
              "      <td>86.50</td>\n",
              "      <td>0</td>\n",
              "      <td>66.28</td>\n",
              "      <td>1</td>\n",
              "      <td>0</td>\n",
              "      <td>0</td>\n",
              "      <td>1</td>\n",
              "      <td>0</td>\n",
              "      <td>0</td>\n",
              "      <td>1</td>\n",
              "    </tr>\n",
              "    <tr>\n",
              "      <th>2</th>\n",
              "      <td>1</td>\n",
              "      <td>65.00</td>\n",
              "      <td>68.00</td>\n",
              "      <td>64.00</td>\n",
              "      <td>0</td>\n",
              "      <td>75.00</td>\n",
              "      <td>0</td>\n",
              "      <td>57.80</td>\n",
              "      <td>1</td>\n",
              "      <td>1</td>\n",
              "      <td>0</td>\n",
              "      <td>0</td>\n",
              "      <td>1</td>\n",
              "      <td>0</td>\n",
              "      <td>0</td>\n",
              "    </tr>\n",
              "    <tr>\n",
              "      <th>3</th>\n",
              "      <td>1</td>\n",
              "      <td>56.00</td>\n",
              "      <td>52.00</td>\n",
              "      <td>52.00</td>\n",
              "      <td>0</td>\n",
              "      <td>66.00</td>\n",
              "      <td>1</td>\n",
              "      <td>59.43</td>\n",
              "      <td>0</td>\n",
              "      <td>0</td>\n",
              "      <td>0</td>\n",
              "      <td>1</td>\n",
              "      <td>0</td>\n",
              "      <td>0</td>\n",
              "      <td>1</td>\n",
              "    </tr>\n",
              "    <tr>\n",
              "      <th>4</th>\n",
              "      <td>1</td>\n",
              "      <td>85.80</td>\n",
              "      <td>73.60</td>\n",
              "      <td>73.30</td>\n",
              "      <td>0</td>\n",
              "      <td>96.80</td>\n",
              "      <td>0</td>\n",
              "      <td>55.50</td>\n",
              "      <td>1</td>\n",
              "      <td>0</td>\n",
              "      <td>1</td>\n",
              "      <td>0</td>\n",
              "      <td>1</td>\n",
              "      <td>0</td>\n",
              "      <td>0</td>\n",
              "    </tr>\n",
              "    <tr>\n",
              "      <th>5</th>\n",
              "      <td>1</td>\n",
              "      <td>55.00</td>\n",
              "      <td>49.80</td>\n",
              "      <td>67.25</td>\n",
              "      <td>1</td>\n",
              "      <td>55.00</td>\n",
              "      <td>0</td>\n",
              "      <td>51.58</td>\n",
              "      <td>0</td>\n",
              "      <td>0</td>\n",
              "      <td>0</td>\n",
              "      <td>1</td>\n",
              "      <td>0</td>\n",
              "      <td>0</td>\n",
              "      <td>1</td>\n",
              "    </tr>\n",
              "    <tr>\n",
              "      <th>6</th>\n",
              "      <td>0</td>\n",
              "      <td>46.00</td>\n",
              "      <td>49.20</td>\n",
              "      <td>79.00</td>\n",
              "      <td>0</td>\n",
              "      <td>74.28</td>\n",
              "      <td>0</td>\n",
              "      <td>53.29</td>\n",
              "      <td>0</td>\n",
              "      <td>0</td>\n",
              "      <td>1</td>\n",
              "      <td>0</td>\n",
              "      <td>1</td>\n",
              "      <td>0</td>\n",
              "      <td>0</td>\n",
              "    </tr>\n",
              "    <tr>\n",
              "      <th>7</th>\n",
              "      <td>1</td>\n",
              "      <td>82.00</td>\n",
              "      <td>64.00</td>\n",
              "      <td>66.00</td>\n",
              "      <td>1</td>\n",
              "      <td>67.00</td>\n",
              "      <td>0</td>\n",
              "      <td>62.14</td>\n",
              "      <td>1</td>\n",
              "      <td>0</td>\n",
              "      <td>0</td>\n",
              "      <td>1</td>\n",
              "      <td>0</td>\n",
              "      <td>0</td>\n",
              "      <td>1</td>\n",
              "    </tr>\n",
              "    <tr>\n",
              "      <th>8</th>\n",
              "      <td>1</td>\n",
              "      <td>73.00</td>\n",
              "      <td>79.00</td>\n",
              "      <td>72.00</td>\n",
              "      <td>0</td>\n",
              "      <td>91.34</td>\n",
              "      <td>0</td>\n",
              "      <td>61.29</td>\n",
              "      <td>1</td>\n",
              "      <td>0</td>\n",
              "      <td>1</td>\n",
              "      <td>0</td>\n",
              "      <td>1</td>\n",
              "      <td>0</td>\n",
              "      <td>0</td>\n",
              "    </tr>\n",
              "    <tr>\n",
              "      <th>9</th>\n",
              "      <td>1</td>\n",
              "      <td>58.00</td>\n",
              "      <td>70.00</td>\n",
              "      <td>61.00</td>\n",
              "      <td>0</td>\n",
              "      <td>54.00</td>\n",
              "      <td>0</td>\n",
              "      <td>52.21</td>\n",
              "      <td>0</td>\n",
              "      <td>0</td>\n",
              "      <td>1</td>\n",
              "      <td>0</td>\n",
              "      <td>1</td>\n",
              "      <td>0</td>\n",
              "      <td>0</td>\n",
              "    </tr>\n",
              "  </tbody>\n",
              "</table>\n",
              "</div>"
            ],
            "text/plain": [
              "   gender  ssc_p  hsc_p  ...  degree_Comm&Mgmt  degree_Others  degree_Sci&Tech\n",
              "0       1  67.00  91.00  ...                 0              0                1\n",
              "1       1  79.33  78.33  ...                 0              0                1\n",
              "2       1  65.00  68.00  ...                 1              0                0\n",
              "3       1  56.00  52.00  ...                 0              0                1\n",
              "4       1  85.80  73.60  ...                 1              0                0\n",
              "5       1  55.00  49.80  ...                 0              0                1\n",
              "6       0  46.00  49.20  ...                 1              0                0\n",
              "7       1  82.00  64.00  ...                 0              0                1\n",
              "8       1  73.00  79.00  ...                 1              0                0\n",
              "9       1  58.00  70.00  ...                 1              0                0\n",
              "\n",
              "[10 rows x 15 columns]"
            ]
          },
          "metadata": {},
          "execution_count": 30
        }
      ]
    },
    {
      "cell_type": "markdown",
      "metadata": {
        "id": "c1231490"
      },
      "source": [
        "####**c. Assigning target and predictor variable and Train Test split**"
      ],
      "id": "c1231490"
    },
    {
      "cell_type": "code",
      "metadata": {
        "id": "94f1526a"
      },
      "source": [
        "X = data_final.drop(['status'],axis = 1)\n",
        "Y = data_final.status\n",
        "X_train,x_test,Y_train,y_test = train_test_split(X,Y,train_size = 0.8,random_state = 1)"
      ],
      "id": "94f1526a",
      "execution_count": null,
      "outputs": []
    },
    {
      "cell_type": "code",
      "metadata": {
        "colab": {
          "base_uri": "https://localhost:8080/"
        },
        "id": "VkEbIWMEO0-6",
        "outputId": "e979499b-9857-4b24-d092-6c1bbf253426"
      },
      "source": [
        "print('y',Y.value_counts(),sep='\\n')\n",
        "print()\n",
        "print('y_train',Y_train.value_counts(),sep='\\n')"
      ],
      "id": "VkEbIWMEO0-6",
      "execution_count": null,
      "outputs": [
        {
          "output_type": "stream",
          "name": "stdout",
          "text": [
            "y\n",
            "1    148\n",
            "0     67\n",
            "Name: status, dtype: int64\n",
            "\n",
            "y_train\n",
            "1    120\n",
            "0     52\n",
            "Name: status, dtype: int64\n"
          ]
        }
      ]
    },
    {
      "cell_type": "markdown",
      "metadata": {
        "id": "YZ-GVDn0O8n5"
      },
      "source": [
        "Dataset is imbalanced. Problem is that models trained on imbalanced datasets often have poor results when they have to generalize."
      ],
      "id": "YZ-GVDn0O8n5"
    },
    {
      "cell_type": "markdown",
      "metadata": {
        "id": "LjzSC3UFV2f1"
      },
      "source": [
        "##**SMOTE resampling on training set**"
      ],
      "id": "LjzSC3UFV2f1"
    },
    {
      "cell_type": "code",
      "metadata": {
        "id": "b3iyQZvPWbHi",
        "colab": {
          "base_uri": "https://localhost:8080/"
        },
        "outputId": "ace4e44c-5221-42df-b29c-5c5309378040"
      },
      "source": [
        "from imblearn.over_sampling import SMOTE"
      ],
      "id": "b3iyQZvPWbHi",
      "execution_count": null,
      "outputs": [
        {
          "output_type": "stream",
          "name": "stderr",
          "text": [
            "/usr/local/lib/python3.7/dist-packages/sklearn/externals/six.py:31: FutureWarning:\n",
            "\n",
            "The module is deprecated in version 0.21 and will be removed in version 0.23 since we've dropped support for Python 2.7. Please rely on the official version of six (https://pypi.org/project/six/).\n",
            "\n",
            "/usr/local/lib/python3.7/dist-packages/sklearn/utils/deprecation.py:144: FutureWarning:\n",
            "\n",
            "The sklearn.neighbors.base module is  deprecated in version 0.22 and will be removed in version 0.24. The corresponding classes / functions should instead be imported from sklearn.neighbors. Anything that cannot be imported from sklearn.neighbors is now part of the private API.\n",
            "\n"
          ]
        }
      ]
    },
    {
      "cell_type": "code",
      "metadata": {
        "id": "dUVJnwe6Wa8D",
        "colab": {
          "base_uri": "https://localhost:8080/"
        },
        "outputId": "fb6b4ef4-7efb-4340-8ebd-39a7846a4539"
      },
      "source": [
        "smote= SMOTE(random_state=42)\n",
        "x_train,y_train = smote.fit_resample(X_train, Y_train)"
      ],
      "id": "dUVJnwe6Wa8D",
      "execution_count": null,
      "outputs": [
        {
          "output_type": "stream",
          "name": "stderr",
          "text": [
            "/usr/local/lib/python3.7/dist-packages/sklearn/utils/deprecation.py:87: FutureWarning:\n",
            "\n",
            "Function safe_indexing is deprecated; safe_indexing is deprecated in version 0.22 and will be removed in version 0.24.\n",
            "\n"
          ]
        }
      ]
    },
    {
      "cell_type": "code",
      "metadata": {
        "id": "eti11QdoXmN2"
      },
      "source": [
        "x_train = pd.DataFrame(x_train)\n",
        "y_train = pd.DataFrame(y_train)\n"
      ],
      "id": "eti11QdoXmN2",
      "execution_count": null,
      "outputs": []
    },
    {
      "cell_type": "code",
      "metadata": {
        "id": "NO91ESMhwX33"
      },
      "source": [
        ""
      ],
      "id": "NO91ESMhwX33",
      "execution_count": null,
      "outputs": []
    },
    {
      "cell_type": "code",
      "metadata": {
        "colab": {
          "base_uri": "https://localhost:8080/"
        },
        "id": "9n1n5hL6Yv4o",
        "outputId": "1f644e43-e8e8-4612-f9f1-180e76841989"
      },
      "source": [
        "y_train.value_counts()"
      ],
      "id": "9n1n5hL6Yv4o",
      "execution_count": null,
      "outputs": [
        {
          "output_type": "execute_result",
          "data": {
            "text/plain": [
              "1    120\n",
              "0    120\n",
              "dtype: int64"
            ]
          },
          "metadata": {},
          "execution_count": 36
        }
      ]
    },
    {
      "cell_type": "markdown",
      "metadata": {
        "id": "P8dlTVeIM70w"
      },
      "source": [
        "#**6. Machine Learning Models**"
      ],
      "id": "P8dlTVeIM70w"
    },
    {
      "cell_type": "markdown",
      "metadata": {
        "id": "9lhkhHj2NXq2"
      },
      "source": [
        "###**Our objective is to predict whether a student is placed or not**"
      ],
      "id": "9lhkhHj2NXq2"
    },
    {
      "cell_type": "markdown",
      "metadata": {
        "id": "8d2f52bf"
      },
      "source": [
        "##**a. Logistic Regression**"
      ],
      "id": "8d2f52bf"
    },
    {
      "cell_type": "code",
      "metadata": {
        "colab": {
          "base_uri": "https://localhost:8080/"
        },
        "id": "b8f5f5a3",
        "outputId": "b0272750-39d8-4bdb-940e-0d367c59fe5b"
      },
      "source": [
        "warnings.filter = warnings.simplefilter('ignore')\n",
        "logreg = LogisticRegression()\n",
        "logreg.fit(x_train, y_train)\n",
        "y_pred = logreg.predict(x_test)\n",
        "print('Accuracy of logistic regression classifier on test set: {:.3f}'.format(logreg.score(x_test, y_test)))\n",
        "print('Accuracy of logistic regression classifier on train set: {:.3f}'.format(logreg.score(x_train, y_train)))"
      ],
      "id": "b8f5f5a3",
      "execution_count": null,
      "outputs": [
        {
          "output_type": "stream",
          "name": "stdout",
          "text": [
            "Accuracy of logistic regression classifier on test set: 0.884\n",
            "Accuracy of logistic regression classifier on train set: 0.896\n"
          ]
        }
      ]
    },
    {
      "cell_type": "markdown",
      "metadata": {
        "id": "dunoE1mZgOSM"
      },
      "source": [
        "Hyperparameter Tuning for Logistic Regression"
      ],
      "id": "dunoE1mZgOSM"
    },
    {
      "cell_type": "code",
      "metadata": {
        "id": "sftoxyd3TVVM"
      },
      "source": [
        "param_grid=[{'penalty':['l1','l2','elasticnet','none'],\n",
        "             'C':np.logspace(-4,4,20),\n",
        "             'solver':['lbfgs','newton-cg','liblinear','sag','saga'],\n",
        "             'max_iter':[100,200,1000,2500,5000]}]"
      ],
      "id": "sftoxyd3TVVM",
      "execution_count": null,
      "outputs": []
    },
    {
      "cell_type": "code",
      "metadata": {
        "id": "dVLEyRWNUr-w"
      },
      "source": [
        "from sklearn.model_selection import GridSearchCV\n",
        "clf=GridSearchCV(logreg,param_grid,cv=3,verbose=True,n_jobs=-1)"
      ],
      "id": "dVLEyRWNUr-w",
      "execution_count": null,
      "outputs": []
    },
    {
      "cell_type": "code",
      "metadata": {
        "colab": {
          "base_uri": "https://localhost:8080/"
        },
        "id": "dwtpcsYjVhAe",
        "outputId": "192e34d7-bf92-4e9d-899f-c9183ae9e701"
      },
      "source": [
        "best_clf=clf.fit(x_train,y_train)"
      ],
      "id": "dwtpcsYjVhAe",
      "execution_count": null,
      "outputs": [
        {
          "output_type": "stream",
          "name": "stderr",
          "text": [
            "[Parallel(n_jobs=-1)]: Using backend LokyBackend with 2 concurrent workers.\n"
          ]
        },
        {
          "output_type": "stream",
          "name": "stdout",
          "text": [
            "Fitting 3 folds for each of 2000 candidates, totalling 6000 fits\n"
          ]
        },
        {
          "output_type": "stream",
          "name": "stderr",
          "text": [
            "[Parallel(n_jobs=-1)]: Done 584 tasks      | elapsed:    8.3s\n",
            "[Parallel(n_jobs=-1)]: Done 2420 tasks      | elapsed:   35.8s\n",
            "[Parallel(n_jobs=-1)]: Done 3920 tasks      | elapsed:  1.2min\n",
            "[Parallel(n_jobs=-1)]: Done 6000 out of 6000 | elapsed:  2.1min finished\n"
          ]
        }
      ]
    },
    {
      "cell_type": "code",
      "metadata": {
        "colab": {
          "base_uri": "https://localhost:8080/"
        },
        "id": "d_An3FpeXzSs",
        "outputId": "b233afcf-7103-4803-de0b-bb049c7727d8"
      },
      "source": [
        "best_clf.best_estimator_"
      ],
      "id": "d_An3FpeXzSs",
      "execution_count": null,
      "outputs": [
        {
          "output_type": "execute_result",
          "data": {
            "text/plain": [
              "LogisticRegression(C=0.23357214690901212, class_weight=None, dual=False,\n",
              "                   fit_intercept=True, intercept_scaling=1, l1_ratio=None,\n",
              "                   max_iter=200, multi_class='auto', n_jobs=None, penalty='l2',\n",
              "                   random_state=None, solver='lbfgs', tol=0.0001, verbose=0,\n",
              "                   warm_start=False)"
            ]
          },
          "metadata": {},
          "execution_count": 41
        }
      ]
    },
    {
      "cell_type": "code",
      "metadata": {
        "id": "W8kVdEA3aITo"
      },
      "source": [
        "best_ypred=clf.predict(x_test)"
      ],
      "id": "W8kVdEA3aITo",
      "execution_count": null,
      "outputs": []
    },
    {
      "cell_type": "code",
      "metadata": {
        "colab": {
          "base_uri": "https://localhost:8080/"
        },
        "id": "NKLdBBvoX_2h",
        "outputId": "d9205c0b-87d0-454a-e5fe-5ed944f4b0fb"
      },
      "source": [
        "print('Accuracy of logistic regression classifier(best) on test set: {:.3f}'.format(best_clf.score(x_test, y_test)))\n",
        "print('Accuracy of logistic regression classifier(best) on train set: {:.3f}'.format(best_clf.score(x_train, y_train)))"
      ],
      "id": "NKLdBBvoX_2h",
      "execution_count": null,
      "outputs": [
        {
          "output_type": "stream",
          "name": "stdout",
          "text": [
            "Accuracy of logistic regression classifier(best) on test set: 0.860\n",
            "Accuracy of logistic regression classifier(best) on train set: 0.912\n"
          ]
        }
      ]
    },
    {
      "cell_type": "markdown",
      "metadata": {
        "id": "qXTitH1lipvN"
      },
      "source": [
        "* Here we can see that test and train accuracies before and after tuning is almost same"
      ],
      "id": "qXTitH1lipvN"
    },
    {
      "cell_type": "markdown",
      "metadata": {
        "id": "HO3jJTM7kSMK"
      },
      "source": [
        "Confusion matrix and Classification report "
      ],
      "id": "HO3jJTM7kSMK"
    },
    {
      "cell_type": "code",
      "metadata": {
        "colab": {
          "base_uri": "https://localhost:8080/"
        },
        "id": "eh4A5Uc1SA7W",
        "outputId": "fec0fb68-06bd-43e4-cf2c-5720142a48f2"
      },
      "source": [
        "from sklearn.metrics import confusion_matrix\n",
        "confusion_matrix = confusion_matrix(y_test,y_pred)\n",
        "print(\"Confusion Matrix:\\n\",confusion_matrix)\n",
        "from sklearn.metrics import classification_report\n",
        "print(\"Classification Report:\\n\",classification_report(y_test,y_pred))\n"
      ],
      "id": "eh4A5Uc1SA7W",
      "execution_count": null,
      "outputs": [
        {
          "output_type": "stream",
          "name": "stdout",
          "text": [
            "Confusion Matrix:\n",
            " [[13  2]\n",
            " [ 3 25]]\n",
            "Classification Report:\n",
            "               precision    recall  f1-score   support\n",
            "\n",
            "           0       0.81      0.87      0.84        15\n",
            "           1       0.93      0.89      0.91        28\n",
            "\n",
            "    accuracy                           0.88        43\n",
            "   macro avg       0.87      0.88      0.87        43\n",
            "weighted avg       0.89      0.88      0.88        43\n",
            "\n"
          ]
        }
      ]
    },
    {
      "cell_type": "markdown",
      "metadata": {
        "id": "DFpIen0Tku-w"
      },
      "source": [
        "**Insights**\n",
        "* From confusion matrix we get that there are 13+25 correct predictions and 2+3 incorrect predictions.\n",
        "* Here we want that precision value should be high because in hiring we need to avoid type I error. In hiring, a false positive is when we think an employee is a good, but actually he is not.\n",
        "* Precision is 0.93 and accuracy is 0.88 which is good."
      ],
      "id": "DFpIen0Tku-w"
    },
    {
      "cell_type": "markdown",
      "metadata": {
        "id": "MEUAxK4oyBve"
      },
      "source": [
        "Performance of model through ROC curve"
      ],
      "id": "MEUAxK4oyBve"
    },
    {
      "cell_type": "code",
      "metadata": {
        "colab": {
          "base_uri": "https://localhost:8080/",
          "height": 295
        },
        "id": "o-1RkzPuyIpZ",
        "outputId": "e61c965f-5319-40b7-832f-d7b9e699c1ee"
      },
      "source": [
        "from sklearn.metrics import roc_auc_score\n",
        "from sklearn.metrics import roc_curve\n",
        "logit_roc_auc = roc_auc_score(y_test, logreg.predict(x_test))\n",
        "fpr, tpr, thresholds = roc_curve(y_test, logreg.predict_proba(x_test)[:,1])\n",
        "plt.figure()\n",
        "plt.plot(fpr, tpr, label='Logistic Regression (area = %0.2f)' % logit_roc_auc)\n",
        "plt.plot([0, 1], [0, 1],'r--')\n",
        "plt.xlim([-0.01, 1.0])\n",
        "plt.ylim([0.0, 1.05])\n",
        "plt.xlabel('False Positive Rate')\n",
        "plt.ylabel('True Positive Rate')\n",
        "plt.title('Receiver operating characteristic')\n",
        "plt.legend(loc=\"lower right\")\n",
        "plt.show()"
      ],
      "id": "o-1RkzPuyIpZ",
      "execution_count": null,
      "outputs": [
        {
          "output_type": "display_data",
          "data": {
            "image/png": "[encoded data removed]",
            "text/plain": [
              "<Figure size 432x288 with 1 Axes>"
            ]
          },
          "metadata": {
            "needs_background": "light"
          }
        }
      ]
    },
    {
      "cell_type": "markdown",
      "metadata": {
        "id": "nNFwJ-QcCnOH"
      },
      "source": [
        "From the ROC curve we can infer that our logistic model has classified the placed students correctly rather than predicting false positive. The more the ROC curve(blue) lies towards the top left side the better our model is."
      ],
      "id": "nNFwJ-QcCnOH"
    },
    {
      "cell_type": "markdown",
      "metadata": {
        "id": "9007305c"
      },
      "source": [
        "##**b. Decision Tree**"
      ],
      "id": "9007305c"
    },
    {
      "cell_type": "code",
      "metadata": {
        "colab": {
          "base_uri": "https://localhost:8080/"
        },
        "id": "f84d489d",
        "outputId": "50a81f13-ba4c-4bd1-91f9-395e2c849d5e"
      },
      "source": [
        "dt = DecisionTreeClassifier()\n",
        "dt = dt.fit(x_train, y_train)\n",
        "y_pred_dt= dt.predict(x_test)\n",
        "print('Accuracy of Decision Tree classifier on test set: {:.3f}'.format(dt.score(x_test, y_test)))\n",
        "print('Accuracy of Decision Tree classifier on train set: {:.3f}'.format(dt.score(x_train, y_train)))"
      ],
      "id": "f84d489d",
      "execution_count": null,
      "outputs": [
        {
          "output_type": "stream",
          "name": "stdout",
          "text": [
            "Accuracy of Decision Tree classifier on test set: 0.767\n",
            "Accuracy of Decision Tree classifier on train set: 1.000\n"
          ]
        }
      ]
    },
    {
      "cell_type": "markdown",
      "metadata": {
        "id": "MhIuJTJBZ9Fi"
      },
      "source": [
        "Here we can see that model is overfit."
      ],
      "id": "MhIuJTJBZ9Fi"
    },
    {
      "cell_type": "markdown",
      "metadata": {
        "id": "zmYI1DlJaY_d"
      },
      "source": [
        "Hyperparameter Tuning for Decision Tree"
      ],
      "id": "zmYI1DlJaY_d"
    },
    {
      "cell_type": "code",
      "metadata": {
        "id": "lEHZPGWuSvjQ"
      },
      "source": [
        "param_grid_dt={'criterion':['gini','entropy'],'max_depth':[2,3,4,5],'max_features':('auto','sqrt','log2'),'min_samples_split':(2,4,6)}"
      ],
      "id": "lEHZPGWuSvjQ",
      "execution_count": null,
      "outputs": []
    },
    {
      "cell_type": "code",
      "metadata": {
        "id": "dxT9lOgKUutm"
      },
      "source": [
        "clf_dt=GridSearchCV(dt,param_grid_dt,n_jobs=-1,verbose=True,cv=5) "
      ],
      "id": "dxT9lOgKUutm",
      "execution_count": null,
      "outputs": []
    },
    {
      "cell_type": "code",
      "metadata": {
        "colab": {
          "base_uri": "https://localhost:8080/"
        },
        "id": "Mc3YeD8KVfxD",
        "outputId": "4a02ae91-eec9-4f88-bd02-03d5084e5296"
      },
      "source": [
        "clf_dt.fit(x_train,y_train)"
      ],
      "id": "Mc3YeD8KVfxD",
      "execution_count": null,
      "outputs": [
        {
          "output_type": "stream",
          "name": "stdout",
          "text": [
            "Fitting 5 folds for each of 72 candidates, totalling 360 fits\n"
          ]
        },
        {
          "output_type": "stream",
          "name": "stderr",
          "text": [
            "[Parallel(n_jobs=-1)]: Using backend LokyBackend with 2 concurrent workers.\n",
            "[Parallel(n_jobs=-1)]: Done 360 out of 360 | elapsed:    1.2s finished\n"
          ]
        },
        {
          "output_type": "execute_result",
          "data": {
            "text/plain": [
              "GridSearchCV(cv=5, error_score=nan,\n",
              "             estimator=DecisionTreeClassifier(ccp_alpha=0.0, class_weight=None,\n",
              "                                              criterion='gini', max_depth=None,\n",
              "                                              max_features=None,\n",
              "                                              max_leaf_nodes=None,\n",
              "                                              min_impurity_decrease=0.0,\n",
              "                                              min_impurity_split=None,\n",
              "                                              min_samples_leaf=1,\n",
              "                                              min_samples_split=2,\n",
              "                                              min_weight_fraction_leaf=0.0,\n",
              "                                              presort='deprecated',\n",
              "                                              random_state=None,\n",
              "                                              splitter='best'),\n",
              "             iid='deprecated', n_jobs=-1,\n",
              "             param_grid={'criterion': ['gini', 'entropy'],\n",
              "                         'max_depth': [2, 3, 4, 5],\n",
              "                         'max_features': ('auto', 'sqrt', 'log2'),\n",
              "                         'min_samples_split': (2, 4, 6)},\n",
              "             pre_dispatch='2*n_jobs', refit=True, return_train_score=False,\n",
              "             scoring=None, verbose=True)"
            ]
          },
          "metadata": {},
          "execution_count": 49
        }
      ]
    },
    {
      "cell_type": "code",
      "metadata": {
        "colab": {
          "base_uri": "https://localhost:8080/"
        },
        "id": "MbX2XxnjVuez",
        "outputId": "5863e41b-0388-40f9-8018-f3a2981b5dc7"
      },
      "source": [
        "clf_dt.best_estimator_"
      ],
      "id": "MbX2XxnjVuez",
      "execution_count": null,
      "outputs": [
        {
          "output_type": "execute_result",
          "data": {
            "text/plain": [
              "DecisionTreeClassifier(ccp_alpha=0.0, class_weight=None, criterion='entropy',\n",
              "                       max_depth=4, max_features='log2', max_leaf_nodes=None,\n",
              "                       min_impurity_decrease=0.0, min_impurity_split=None,\n",
              "                       min_samples_leaf=1, min_samples_split=4,\n",
              "                       min_weight_fraction_leaf=0.0, presort='deprecated',\n",
              "                       random_state=None, splitter='best')"
            ]
          },
          "metadata": {},
          "execution_count": 50
        }
      ]
    },
    {
      "cell_type": "code",
      "metadata": {
        "id": "235N4j8fWhgx"
      },
      "source": [
        "best_ypred_dt=clf_dt.predict(x_test)"
      ],
      "id": "235N4j8fWhgx",
      "execution_count": null,
      "outputs": []
    },
    {
      "cell_type": "code",
      "metadata": {
        "colab": {
          "base_uri": "https://localhost:8080/"
        },
        "id": "cEIhDtxVV5pq",
        "outputId": "2d5ae0a7-17bc-4ac2-854d-c84729bd8a88"
      },
      "source": [
        "print('Accuracy of Decision Tree(Best) classifier on test set: {:.3f}'.format(clf_dt.score(x_test, y_test)))\n",
        "print('Accuracy of Decision Tree(Best) classifier on train set: {:.3f}'.format(clf_dt.score(x_train, y_train)))"
      ],
      "id": "cEIhDtxVV5pq",
      "execution_count": null,
      "outputs": [
        {
          "output_type": "stream",
          "name": "stdout",
          "text": [
            "Accuracy of Decision Tree(Best) classifier on test set: 0.744\n",
            "Accuracy of Decision Tree(Best) classifier on train set: 0.842\n"
          ]
        }
      ]
    },
    {
      "cell_type": "markdown",
      "metadata": {
        "id": "0teTuw7ManjZ"
      },
      "source": [
        ""
      ],
      "id": "0teTuw7ManjZ"
    },
    {
      "cell_type": "markdown",
      "metadata": {
        "id": "7zTY92Zia0uM"
      },
      "source": [
        "Confusion matrix and Classification report"
      ],
      "id": "7zTY92Zia0uM"
    },
    {
      "cell_type": "code",
      "metadata": {
        "colab": {
          "base_uri": "https://localhost:8080/"
        },
        "id": "Dzs4SmXna2a7",
        "outputId": "983ebe2a-7d53-45f1-c7d3-f9dfb04dda07"
      },
      "source": [
        "from sklearn.metrics import confusion_matrix\n",
        "confusion_matrix = confusion_matrix(y_test,best_ypred_dt)\n",
        "print(\"Confusion Matrix:\\n\",confusion_matrix)\n",
        "print(\"Classification Report:\\n\",classification_report(y_test,best_ypred_dt))"
      ],
      "id": "Dzs4SmXna2a7",
      "execution_count": null,
      "outputs": [
        {
          "output_type": "stream",
          "name": "stdout",
          "text": [
            "Confusion Matrix:\n",
            " [[11  4]\n",
            " [ 7 21]]\n",
            "Classification Report:\n",
            "               precision    recall  f1-score   support\n",
            "\n",
            "           0       0.61      0.73      0.67        15\n",
            "           1       0.84      0.75      0.79        28\n",
            "\n",
            "    accuracy                           0.74        43\n",
            "   macro avg       0.73      0.74      0.73        43\n",
            "weighted avg       0.76      0.74      0.75        43\n",
            "\n"
          ]
        }
      ]
    },
    {
      "cell_type": "markdown",
      "metadata": {
        "id": "wkMJYicxfTbc"
      },
      "source": [
        "Here Precision value is not good. So the model is not good."
      ],
      "id": "wkMJYicxfTbc"
    },
    {
      "cell_type": "markdown",
      "metadata": {
        "id": "34160109"
      },
      "source": [
        "##**c. Random Forest**"
      ],
      "id": "34160109"
    },
    {
      "cell_type": "code",
      "metadata": {
        "colab": {
          "base_uri": "https://localhost:8080/"
        },
        "id": "7a1bc7ef",
        "outputId": "f7f09b81-15dc-4cdb-ec1f-dca8929c76c2"
      },
      "source": [
        "rf = RandomForestClassifier(n_estimators=100)\n",
        "rf.fit(x_train,y_train)\n",
        "y_pred_rf = rf.predict(x_test)\n",
        "print('Accuracy of Random Forest classifier on test set: {:.3f}'.format(rf.score(x_test, y_test)))\n",
        "print('Accuracy of Random Forest classifier on train set: {:.3f}'.format(rf.score(x_train, y_train)))"
      ],
      "id": "7a1bc7ef",
      "execution_count": null,
      "outputs": [
        {
          "output_type": "stream",
          "name": "stdout",
          "text": [
            "Accuracy of Random Forest classifier on test set: 0.907\n",
            "Accuracy of Random Forest classifier on train set: 1.000\n"
          ]
        }
      ]
    },
    {
      "cell_type": "markdown",
      "metadata": {
        "id": "QJvG0CVFmcjq"
      },
      "source": [
        "Model is overfit"
      ],
      "id": "QJvG0CVFmcjq"
    },
    {
      "cell_type": "markdown",
      "metadata": {
        "id": "ErATwVPWF3gH"
      },
      "source": [
        "Hyperparameter Tuning for Random Forest"
      ],
      "id": "ErATwVPWF3gH"
    },
    {
      "cell_type": "code",
      "metadata": {
        "id": "yR4ehg5hm0gQ"
      },
      "source": [
        "# Number of trees in random forest\n",
        "n_estimators =[20,60,100,120]\n",
        "# Number of features to consider at every split\n",
        "max_features = [0.2,0.6,1.0]\n",
        "# Maximum number of levels in tree\n",
        "max_depth = [2,4,8,None]\n",
        "# Minimum number of samples required to split a node\n",
        "min_samples_split = [2, 5]\n",
        "# Minimum number of samples required at each leaf node\n",
        "min_samples_leaf = [1, 2]\n",
        "# Method of selecting samples for training each tree\n",
        "bootstrap = [True, False]\n",
        "criterion=['gini','entropy']"
      ],
      "id": "yR4ehg5hm0gQ",
      "execution_count": null,
      "outputs": []
    },
    {
      "cell_type": "code",
      "metadata": {
        "id": "jGKJ9utHm0cI"
      },
      "source": [
        "param_grid_rf = {'n_estimators': n_estimators,\n",
        "               'max_features': max_features,\n",
        "               'max_depth': max_depth,\n",
        "               'min_samples_split': min_samples_split,\n",
        "               'min_samples_leaf': min_samples_leaf,\n",
        "               'bootstrap': bootstrap,'criterion':criterion}"
      ],
      "id": "jGKJ9utHm0cI",
      "execution_count": null,
      "outputs": []
    },
    {
      "cell_type": "code",
      "metadata": {
        "id": "ev0GXEyom0Vf"
      },
      "source": [
        "clf_rf = GridSearchCV(estimator = rf, param_grid = param_grid_rf, cv = 5, verbose=2, n_jobs = -1)"
      ],
      "id": "ev0GXEyom0Vf",
      "execution_count": null,
      "outputs": []
    },
    {
      "cell_type": "code",
      "metadata": {
        "colab": {
          "base_uri": "https://localhost:8080/"
        },
        "id": "qgrKdHPkm0TH",
        "outputId": "2f87a803-5b71-41e8-cb5a-1b2371ebac69"
      },
      "source": [
        "clf_rf.fit(x_train, y_train)"
      ],
      "id": "qgrKdHPkm0TH",
      "execution_count": null,
      "outputs": [
        {
          "output_type": "stream",
          "name": "stdout",
          "text": [
            "Fitting 5 folds for each of 768 candidates, totalling 3840 fits\n"
          ]
        },
        {
          "output_type": "stream",
          "name": "stderr",
          "text": [
            "[Parallel(n_jobs=-1)]: Using backend LokyBackend with 2 concurrent workers.\n",
            "[Parallel(n_jobs=-1)]: Done  70 tasks      | elapsed:    6.3s\n",
            "[Parallel(n_jobs=-1)]: Done 312 tasks      | elapsed:   30.3s\n",
            "[Parallel(n_jobs=-1)]: Done 718 tasks      | elapsed:  1.2min\n",
            "[Parallel(n_jobs=-1)]: Done 1284 tasks      | elapsed:  2.2min\n",
            "[Parallel(n_jobs=-1)]: Done 2014 tasks      | elapsed:  3.5min\n",
            "[Parallel(n_jobs=-1)]: Done 2904 tasks      | elapsed:  4.7min\n",
            "[Parallel(n_jobs=-1)]: Done 3840 out of 3840 | elapsed:  6.3min finished\n"
          ]
        },
        {
          "output_type": "execute_result",
          "data": {
            "text/plain": [
              "GridSearchCV(cv=5, error_score=nan,\n",
              "             estimator=RandomForestClassifier(bootstrap=True, ccp_alpha=0.0,\n",
              "                                              class_weight=None,\n",
              "                                              criterion='gini', max_depth=None,\n",
              "                                              max_features='auto',\n",
              "                                              max_leaf_nodes=None,\n",
              "                                              max_samples=None,\n",
              "                                              min_impurity_decrease=0.0,\n",
              "                                              min_impurity_split=None,\n",
              "                                              min_samples_leaf=1,\n",
              "                                              min_samples_split=2,\n",
              "                                              min_weight_fraction_leaf=0.0,\n",
              "                                              n_estimators=100, n_jobs=None,...\n",
              "                                              random_state=None, verbose=0,\n",
              "                                              warm_start=False),\n",
              "             iid='deprecated', n_jobs=-1,\n",
              "             param_grid={'bootstrap': [True, False],\n",
              "                         'criterion': ['gini', 'entropy'],\n",
              "                         'max_depth': [2, 4, 8, None],\n",
              "                         'max_features': [0.2, 0.6, 1.0],\n",
              "                         'min_samples_leaf': [1, 2],\n",
              "                         'min_samples_split': [2, 5],\n",
              "                         'n_estimators': [20, 60, 100, 120]},\n",
              "             pre_dispatch='2*n_jobs', refit=True, return_train_score=False,\n",
              "             scoring=None, verbose=2)"
            ]
          },
          "metadata": {},
          "execution_count": 58
        }
      ]
    },
    {
      "cell_type": "code",
      "metadata": {
        "colab": {
          "base_uri": "https://localhost:8080/"
        },
        "id": "u4yGN0n0IfNz",
        "outputId": "bda65227-002b-4d63-c3c0-c8d2d1887e1c"
      },
      "source": [
        "clf_rf.best_estimator_"
      ],
      "id": "u4yGN0n0IfNz",
      "execution_count": null,
      "outputs": [
        {
          "output_type": "execute_result",
          "data": {
            "text/plain": [
              "RandomForestClassifier(bootstrap=True, ccp_alpha=0.0, class_weight=None,\n",
              "                       criterion='gini', max_depth=None, max_features=0.2,\n",
              "                       max_leaf_nodes=None, max_samples=None,\n",
              "                       min_impurity_decrease=0.0, min_impurity_split=None,\n",
              "                       min_samples_leaf=2, min_samples_split=5,\n",
              "                       min_weight_fraction_leaf=0.0, n_estimators=120,\n",
              "                       n_jobs=None, oob_score=False, random_state=None,\n",
              "                       verbose=0, warm_start=False)"
            ]
          },
          "metadata": {},
          "execution_count": 59
        }
      ]
    },
    {
      "cell_type": "code",
      "metadata": {
        "id": "wwL_8gVXm0PK"
      },
      "source": [
        "best_ypred_rf=clf_rf.predict(x_test)"
      ],
      "id": "wwL_8gVXm0PK",
      "execution_count": null,
      "outputs": []
    },
    {
      "cell_type": "code",
      "metadata": {
        "colab": {
          "base_uri": "https://localhost:8080/"
        },
        "id": "pmNzTtbam0ME",
        "outputId": "943c7368-9860-4166-a037-ec32624a2838"
      },
      "source": [
        "print('Accuracy of Random Forest(Best) classifier on test set: {:.3f}'.format(clf_rf.score(x_test, y_test)))\n",
        "print('Accuracy of Random Forest(Best) classifier on train set: {:.3f}'.format(clf_rf.score(x_train, y_train)))"
      ],
      "id": "pmNzTtbam0ME",
      "execution_count": null,
      "outputs": [
        {
          "output_type": "stream",
          "name": "stdout",
          "text": [
            "Accuracy of Random Forest(Best) classifier on test set: 0.884\n",
            "Accuracy of Random Forest(Best) classifier on train set: 0.983\n"
          ]
        }
      ]
    },
    {
      "cell_type": "markdown",
      "metadata": {
        "id": "v2ct1n6LGbVN"
      },
      "source": [
        "Confusion matrix and Classification report"
      ],
      "id": "v2ct1n6LGbVN"
    },
    {
      "cell_type": "code",
      "metadata": {
        "colab": {
          "base_uri": "https://localhost:8080/"
        },
        "id": "_TpsSb1kFrQ-",
        "outputId": "720096fc-494b-4e16-ddc6-cdcf9b5b4dc0"
      },
      "source": [
        "from sklearn.metrics import confusion_matrix\n",
        "confusion_matrix = confusion_matrix(y_test,best_ypred_rf)\n",
        "print(\"Confusion Matrix:\\n\",confusion_matrix)\n",
        "print(\"Classification Report:\\n\",classification_report(y_test,best_ypred_rf))"
      ],
      "id": "_TpsSb1kFrQ-",
      "execution_count": null,
      "outputs": [
        {
          "output_type": "stream",
          "name": "stdout",
          "text": [
            "Confusion Matrix:\n",
            " [[11  4]\n",
            " [ 1 27]]\n",
            "Classification Report:\n",
            "               precision    recall  f1-score   support\n",
            "\n",
            "           0       0.92      0.73      0.81        15\n",
            "           1       0.87      0.96      0.92        28\n",
            "\n",
            "    accuracy                           0.88        43\n",
            "   macro avg       0.89      0.85      0.87        43\n",
            "weighted avg       0.89      0.88      0.88        43\n",
            "\n"
          ]
        }
      ]
    },
    {
      "cell_type": "markdown",
      "metadata": {
        "id": "S5YyiQunmjv8"
      },
      "source": [
        "Precision and accuracy is good. Model is Performing well after hyperparameter tuning."
      ],
      "id": "S5YyiQunmjv8"
    },
    {
      "cell_type": "markdown",
      "metadata": {
        "id": "_gJLUFL99ohB"
      },
      "source": [
        "##**d. Naive Bayes**"
      ],
      "id": "_gJLUFL99ohB"
    },
    {
      "cell_type": "code",
      "metadata": {
        "colab": {
          "base_uri": "https://localhost:8080/"
        },
        "id": "jj9agWeb9qSD",
        "outputId": "42300a43-732f-4210-97bd-3e69caeb3ba1"
      },
      "source": [
        "from sklearn.naive_bayes import BernoulliNB \n",
        "nb = BernoulliNB() \n",
        "nb.fit(x_train, y_train) \n",
        "  \n",
        "#Applying and predicting \n",
        "y_pred_nb = nb.predict(x_test) \n",
        "\n",
        "print('Accuracy of Naive Bayes classifier on test set: {:.3f}'.format(nb.score(x_test, y_test)))\n",
        "print('Accuracy of Naive Bayes classifier on train set: {:.3f}'.format(nb.score(x_train, y_train)))"
      ],
      "id": "jj9agWeb9qSD",
      "execution_count": null,
      "outputs": [
        {
          "output_type": "stream",
          "name": "stdout",
          "text": [
            "Accuracy of Naive Bayes classifier on test set: 0.721\n",
            "Accuracy of Naive Bayes classifier on train set: 0.725\n"
          ]
        }
      ]
    },
    {
      "cell_type": "markdown",
      "metadata": {
        "id": "befQkN3qGlkA"
      },
      "source": [
        "Here test and train accuracies are same but low."
      ],
      "id": "befQkN3qGlkA"
    },
    {
      "cell_type": "markdown",
      "metadata": {
        "id": "M0SiTpbDGN6N"
      },
      "source": [
        "Hyperparameter Tuning for Naive Bayes"
      ],
      "id": "M0SiTpbDGN6N"
    },
    {
      "cell_type": "code",
      "metadata": {
        "id": "owy-IdW9CgVw"
      },
      "source": [
        "para_gird_nb={'alpha':[0.01,0.1,0.5,1,10]}"
      ],
      "id": "owy-IdW9CgVw",
      "execution_count": null,
      "outputs": []
    },
    {
      "cell_type": "code",
      "metadata": {
        "id": "PaUeSaPuD8BS"
      },
      "source": [
        "clf_nb=GridSearchCV(nb,para_gird_nb,n_jobs=-1,cv=5,verbose=5)"
      ],
      "id": "PaUeSaPuD8BS",
      "execution_count": null,
      "outputs": []
    },
    {
      "cell_type": "code",
      "metadata": {
        "colab": {
          "base_uri": "https://localhost:8080/"
        },
        "id": "w6zSgIcSEULU",
        "outputId": "53ffa89d-8223-489d-bbc1-02da602acb5d"
      },
      "source": [
        "clf_nb.fit(x_train,y_train)"
      ],
      "id": "w6zSgIcSEULU",
      "execution_count": null,
      "outputs": [
        {
          "output_type": "stream",
          "name": "stdout",
          "text": [
            "Fitting 5 folds for each of 5 candidates, totalling 25 fits\n"
          ]
        },
        {
          "output_type": "stream",
          "name": "stderr",
          "text": [
            "[Parallel(n_jobs=-1)]: Using backend LokyBackend with 2 concurrent workers.\n",
            "[Parallel(n_jobs=-1)]: Done  25 out of  25 | elapsed:    0.1s finished\n"
          ]
        },
        {
          "output_type": "execute_result",
          "data": {
            "text/plain": [
              "GridSearchCV(cv=5, error_score=nan,\n",
              "             estimator=BernoulliNB(alpha=1.0, binarize=0.0, class_prior=None,\n",
              "                                   fit_prior=True),\n",
              "             iid='deprecated', n_jobs=-1,\n",
              "             param_grid={'alpha': [0.01, 0.1, 0.5, 1, 10]},\n",
              "             pre_dispatch='2*n_jobs', refit=True, return_train_score=False,\n",
              "             scoring=None, verbose=5)"
            ]
          },
          "metadata": {},
          "execution_count": 66
        }
      ]
    },
    {
      "cell_type": "code",
      "metadata": {
        "colab": {
          "base_uri": "https://localhost:8080/"
        },
        "id": "2hLBSCCaEd2x",
        "outputId": "26dc9eff-cf69-4953-f316-0142c510119d"
      },
      "source": [
        "clf_nb.best_estimator_"
      ],
      "id": "2hLBSCCaEd2x",
      "execution_count": null,
      "outputs": [
        {
          "output_type": "execute_result",
          "data": {
            "text/plain": [
              "BernoulliNB(alpha=0.01, binarize=0.0, class_prior=None, fit_prior=True)"
            ]
          },
          "metadata": {},
          "execution_count": 67
        }
      ]
    },
    {
      "cell_type": "code",
      "metadata": {
        "id": "mDkmStKwEr2g"
      },
      "source": [
        "best_ypred_nb=clf_nb.predict(x_test)"
      ],
      "id": "mDkmStKwEr2g",
      "execution_count": null,
      "outputs": []
    },
    {
      "cell_type": "code",
      "metadata": {
        "colab": {
          "base_uri": "https://localhost:8080/"
        },
        "id": "oiQ8GFMvE2Iw",
        "outputId": "1f16ae6e-e072-45b5-a1ff-e51fbeaffdf5"
      },
      "source": [
        "print('Accuracy of Naive Bayes classifier on test set: {:.3f}'.format(clf_nb.score(x_test, y_test)))\n",
        "print('Accuracy of Naive Bayes classifier on train set: {:.3f}'.format(clf_nb.score(x_train, y_train)))"
      ],
      "id": "oiQ8GFMvE2Iw",
      "execution_count": null,
      "outputs": [
        {
          "output_type": "stream",
          "name": "stdout",
          "text": [
            "Accuracy of Naive Bayes classifier on test set: 0.674\n",
            "Accuracy of Naive Bayes classifier on train set: 0.729\n"
          ]
        }
      ]
    },
    {
      "cell_type": "markdown",
      "metadata": {
        "id": "WUqB74AoG1kD"
      },
      "source": [
        "Even after hyperparameter tuning we are getting almost same accuracies."
      ],
      "id": "WUqB74AoG1kD"
    },
    {
      "cell_type": "markdown",
      "metadata": {
        "id": "CTjH2oUsGiEs"
      },
      "source": [
        "Confusion matrix and Classification report"
      ],
      "id": "CTjH2oUsGiEs"
    },
    {
      "cell_type": "code",
      "metadata": {
        "colab": {
          "base_uri": "https://localhost:8080/"
        },
        "id": "fPKW-e-z9qIh",
        "outputId": "773a8ef6-9a33-4abe-cf56-213271884582"
      },
      "source": [
        "from sklearn.metrics import confusion_matrix\n",
        "confusion_matrix = confusion_matrix(y_test, y_pred_nb)\n",
        "print(\"Confusion Matrix:\\n\",confusion_matrix)\n",
        "print(\"Classification Report:\\n\",classification_report(y_test, y_pred_nb))"
      ],
      "id": "fPKW-e-z9qIh",
      "execution_count": null,
      "outputs": [
        {
          "output_type": "stream",
          "name": "stdout",
          "text": [
            "Confusion Matrix:\n",
            " [[10  5]\n",
            " [ 7 21]]\n",
            "Classification Report:\n",
            "               precision    recall  f1-score   support\n",
            "\n",
            "           0       0.59      0.67      0.62        15\n",
            "           1       0.81      0.75      0.78        28\n",
            "\n",
            "    accuracy                           0.72        43\n",
            "   macro avg       0.70      0.71      0.70        43\n",
            "weighted avg       0.73      0.72      0.72        43\n",
            "\n"
          ]
        }
      ]
    },
    {
      "cell_type": "markdown",
      "metadata": {
        "id": "rCm_EdPwHhrl"
      },
      "source": [
        "Here accuracy is not high but precision is pretty high but not high as compared to logistics"
      ],
      "id": "rCm_EdPwHhrl"
    },
    {
      "cell_type": "markdown",
      "metadata": {
        "id": "JLAOqXcgH34M"
      },
      "source": [
        "##**e. SVM**"
      ],
      "id": "JLAOqXcgH34M"
    },
    {
      "cell_type": "code",
      "metadata": {
        "colab": {
          "base_uri": "https://localhost:8080/"
        },
        "id": "tx8KuTOFH2eX",
        "outputId": "1be0d40a-4db9-46c1-b387-e7eade1f0122"
      },
      "source": [
        "from sklearn.metrics import confusion_matrix\n",
        "from sklearn.svm import SVC\n",
        "svclassifier = SVC(kernel='linear',probability=True)\n",
        "svclassifier.fit(x_train, y_train)\n",
        "y_pred_svm = svclassifier.predict(x_test)\n",
        "print('Accuracy of SVM  on test set: {:.3f}'.format(svclassifier.score(x_test, y_test)))\n",
        "print('Accuracy of SVM  on train set: {:.3f}'.format(svclassifier.score(x_train, y_train)))\n"
      ],
      "id": "tx8KuTOFH2eX",
      "execution_count": null,
      "outputs": [
        {
          "output_type": "stream",
          "name": "stdout",
          "text": [
            "Accuracy of SVM  on test set: 0.907\n",
            "Accuracy of SVM  on train set: 0.912\n"
          ]
        }
      ]
    },
    {
      "cell_type": "markdown",
      "metadata": {
        "id": "6XnQ2uliJOrG"
      },
      "source": [
        "Train and test accuracies are very good."
      ],
      "id": "6XnQ2uliJOrG"
    },
    {
      "cell_type": "code",
      "metadata": {
        "colab": {
          "base_uri": "https://localhost:8080/"
        },
        "id": "6Eenll8eH-Av",
        "outputId": "8aa6e5ad-7cbc-4cc5-9839-7d833967b9c9"
      },
      "source": [
        "confusion_matrix = confusion_matrix(y_test,y_pred_svm)\n",
        "print(\"Confusion Matrix:\\n\",confusion_matrix)\n",
        "print(\"Classification Report:\\n\",classification_report(y_test,y_pred_svm))"
      ],
      "id": "6Eenll8eH-Av",
      "execution_count": null,
      "outputs": [
        {
          "output_type": "stream",
          "name": "stdout",
          "text": [
            "Confusion Matrix:\n",
            " [[14  1]\n",
            " [ 3 25]]\n",
            "Classification Report:\n",
            "               precision    recall  f1-score   support\n",
            "\n",
            "           0       0.82      0.93      0.87        15\n",
            "           1       0.96      0.89      0.93        28\n",
            "\n",
            "    accuracy                           0.91        43\n",
            "   macro avg       0.89      0.91      0.90        43\n",
            "weighted avg       0.91      0.91      0.91        43\n",
            "\n"
          ]
        }
      ]
    },
    {
      "cell_type": "markdown",
      "metadata": {
        "id": "2XntswiJWpI4"
      },
      "source": [
        "Accuracy and Precision both are high.\n"
      ],
      "id": "2XntswiJWpI4"
    },
    {
      "cell_type": "code",
      "metadata": {
        "colab": {
          "base_uri": "https://localhost:8080/",
          "height": 295
        },
        "id": "igdy8fHXbPMX",
        "outputId": "75319c96-3bb9-41fa-feeb-3710bbdaa871"
      },
      "source": [
        "svm_roc_auc = roc_auc_score(y_test, svclassifier.predict(x_test))\n",
        "fpr, tpr, thresholds = roc_curve(y_test, svclassifier.predict_proba(x_test)[:,1])\n",
        "plt.figure()\n",
        "plt.plot(fpr, tpr, label='SVM (area = %0.2f)' % svm_roc_auc)\n",
        "plt.plot([0, 1], [0, 1],'r--')\n",
        "plt.xlim([-0.01, 1.0])\n",
        "plt.ylim([0.0, 1.05])\n",
        "plt.xlabel('False Positive Rate')\n",
        "plt.ylabel('True Positive Rate')\n",
        "plt.title('Receiver operating characteristic')\n",
        "plt.legend(loc=\"lower right\")\n",
        "plt.show()"
      ],
      "id": "igdy8fHXbPMX",
      "execution_count": null,
      "outputs": [
        {
          "output_type": "display_data",
          "data": {
            "image/png": "[encoded data removed]",
            "text/plain": [
              "<Figure size 432x288 with 1 Axes>"
            ]
          },
          "metadata": {
            "needs_background": "light"
          }
        }
      ]
    },
    {
      "cell_type": "markdown",
      "metadata": {
        "id": "9CexLfDJgcgo"
      },
      "source": [
        "From the ROC curve we can infer that our SVM model has classified the placed students correctly rather than predicting false positive. Area under the curve is 0.91 which shows that model is good."
      ],
      "id": "9CexLfDJgcgo"
    },
    {
      "cell_type": "markdown",
      "metadata": {
        "id": "uoWuMOiIm2RT"
      },
      "source": [
        "##**f. K-Nearest Neighbours**"
      ],
      "id": "uoWuMOiIm2RT"
    },
    {
      "cell_type": "code",
      "metadata": {
        "id": "0ZyTB0olVSD-",
        "colab": {
          "base_uri": "https://localhost:8080/"
        },
        "outputId": "913a7c3c-36cd-476f-cbeb-3e1ec7f4ec44"
      },
      "source": [
        "from sklearn.preprocessing import StandardScaler\n",
        "ss = StandardScaler()\n",
        "ss.fit_transform(x_train)\n",
        "ss.transform(x_test)"
      ],
      "id": "0ZyTB0olVSD-",
      "execution_count": null,
      "outputs": [
        {
          "output_type": "execute_result",
          "data": {
            "text/plain": [
              "array([[ 0.82956653, -0.35098277,  1.6209983 ,  0.54981513, -0.71984877,\n",
              "         1.01238644, -1.07073162, -0.66523625, -0.29984938,  1.10282675,\n",
              "        -0.9552819 ,  0.76340028, -0.28056555, -0.65151175],\n",
              "       [ 0.82956653,  1.66968449,  1.25917689, -0.56758695,  1.52826732,\n",
              "         1.37569977, -1.07073162,  1.60429872, -0.29984938,  1.10282675,\n",
              "        -0.9552819 ,  0.76340028, -0.28056555, -0.65151175],\n",
              "       [ 0.82956653, -0.34374348, -1.27357297, -1.54531376, -0.71984877,\n",
              "        -0.02337522, -1.07073162,  0.59980665, -0.29984938, -1.00638581,\n",
              "         1.15909238, -1.49980793, -0.28056555,  1.75078314],\n",
              "       [ 0.82956653,  1.54933126,  2.34464112,  2.50526876, -0.71984877,\n",
              "         0.69369055,  1.02147002,  1.94198633, -0.29984938,  1.10282675,\n",
              "        -0.9552819 ,  0.76340028, -0.28056555, -0.65151175],\n",
              "       [ 0.82956653, -0.94822433, -0.26770946, -1.23802819, -0.71984877,\n",
              "        -0.34207112,  1.02147002,  0.07870497, -0.29984938,  1.10282675,\n",
              "        -0.9552819 ,  0.76340028, -0.28056555, -0.65151175],\n",
              "       [-1.30828304,  2.00178699,  0.08325731,  2.22591825,  1.52826732,\n",
              "         1.33108234, -1.07073162,  1.8151392 , -0.29984938, -1.00638581,\n",
              "         1.15909238,  0.76340028, -0.28056555, -0.65151175],\n",
              "       [ 0.82956653, -1.11110839,  0.13572141,  0.98420519, -0.71984877,\n",
              "        -1.09100648, -1.07073162, -0.94807105, -0.29984938, -1.00638581,\n",
              "         1.15909238, -1.49980793, -0.28056555,  1.75078314],\n",
              "       [-1.30828304,  0.95208971, -0.32379178,  2.64494402, -0.71984877,\n",
              "         2.12782209, -1.07073162,  0.52438404, -0.29984938, -1.00638581,\n",
              "         1.15909238, -1.49980793, -0.28056555,  1.75078314],\n",
              "       [ 0.82956653,  1.89319761,  0.86117334,  1.15041875, -0.71984877,\n",
              "         2.03221332, -1.07073162, -1.14691248, -0.29984938,  1.10282675,\n",
              "        -0.9552819 ,  0.76340028, -0.28056555, -0.65151175],\n",
              "       [-1.30828304,  0.19196409, -1.00220692, -0.00888591, -0.71984877,\n",
              "        -0.58109304,  1.02147002, -0.6635221 , -0.29984938, -1.00638581,\n",
              "         1.15909238, -1.49980793, -0.28056555,  1.75078314],\n",
              "       [ 0.82956653,  1.0063844 ,  1.44008759,  1.80689247,  1.52826732,\n",
              "         2.04814811,  1.02147002,  1.42088464, -0.29984938, -1.00638581,\n",
              "         1.15909238, -1.49980793, -0.28056555,  1.75078314],\n",
              "       [ 0.82956653,  1.45884012,  0.35462337, -0.14856117, -0.71984877,\n",
              "         1.72945221, -1.07073162,  0.06327762, -0.29984938, -1.00638581,\n",
              "         1.15909238, -1.49980793, -0.28056555,  1.75078314],\n",
              "       [ 0.82956653, -1.16540308, -0.18810875, -1.54531376, -0.71984877,\n",
              "         0.05629875,  1.02147002, -1.16233984, -0.29984938,  1.10282675,\n",
              "        -0.9552819 ,  0.76340028, -0.28056555, -0.65151175],\n",
              "       [ 0.82956653,  0.73491096,  0.80690013,  0.13078935,  1.52826732,\n",
              "        -0.1030492 , -1.07073162,  1.00777442, -0.29984938, -1.00638581,\n",
              "         1.15909238, -1.49980793, -0.28056555,  1.75078314],\n",
              "       [ 0.82956653, -0.83963495, -1.18311762, -1.05645036, -0.71984877,\n",
              "        -1.08861626,  1.02147002,  0.09070402, -0.29984938,  1.10282675,\n",
              "        -0.9552819 ,  0.76340028, -0.28056555, -0.65151175],\n",
              "       [ 0.82956653, -0.62245621, -0.2785641 , -0.56758695, -0.71984877,\n",
              "        -1.05913689,  1.02147002, -1.41431993, -0.29984938,  1.10282675,\n",
              "        -0.9552819 ,  0.76340028, -0.28056555, -0.65151175],\n",
              "       [ 0.82956653, -0.62245621, -0.18810875, -0.14856117, -0.71984877,\n",
              "        -1.38739366, -1.07073162, -1.23776245, -0.29984938,  1.10282675,\n",
              "        -0.9552819 ,  0.76340028, -0.28056555, -0.65151175],\n",
              "       [-1.30828304,  0.5086831 , -0.14288107, -0.56758695, -0.71984877,\n",
              "         1.80195553, -1.07073162,  1.17233285, -0.29984938,  1.10282675,\n",
              "        -0.9552819 ,  0.76340028, -0.28056555, -0.65151175],\n",
              "       [ 0.82956653,  0.0109818 ,  0.08325731,  1.38786669, -0.71984877,\n",
              "         0.93271247, -1.07073162, -0.56924384, -0.29984938,  1.10282675,\n",
              "        -0.9552819 ,  0.76340028, -0.28056555, -0.65151175],\n",
              "       [-1.30828304,  0.73491096, -0.54993016,  0.13078935, -0.71984877,\n",
              "        -1.40173498,  1.02147002, -0.91378804, -0.29984938, -1.00638581,\n",
              "         1.15909238,  0.76340028, -0.28056555, -0.65151175],\n",
              "       [-1.30828304,  1.09687554,  0.80690013,  2.22591825,  1.52826732,\n",
              "         1.41075632, -1.07073162,  1.28718092, -0.29984938,  1.10282675,\n",
              "        -0.9552819 ,  0.76340028, -0.28056555, -0.65151175],\n",
              "       [ 0.82956653,  0.37294638, -0.36901945, -0.00888591, -0.71984877,\n",
              "         1.29522905, -1.07073162, -1.60801891, -0.29984938,  1.10282675,\n",
              "        -0.9552819 ,  0.76340028, -0.28056555, -0.65151175],\n",
              "       [ 0.82956653,  0.46343753, -0.09765339,  0.68949039,  1.52826732,\n",
              "        -1.29815881, -1.07073162, -0.0327148 , -0.29984938, -1.00638581,\n",
              "         1.15909238, -1.49980793, -0.28056555,  1.75078314],\n",
              "       [-1.30828304, -0.17000048,  0.17371266, -0.14856117, -0.71984877,\n",
              "        -0.26239715,  1.02147002,  0.32382846, -0.29984938,  1.10282675,\n",
              "        -0.9552819 ,  0.76340028, -0.28056555, -0.65151175],\n",
              "       [ 0.82956653,  0.19196409, -0.09765339, -0.14856117, -0.71984877,\n",
              "        -0.89978894, -1.07073162, -0.05499875, -0.29984938, -1.00638581,\n",
              "         1.15909238, -1.49980793, -0.28056555,  1.75078314],\n",
              "       [-1.30828304,  0.37294638,  1.25917689,  0.96884091, -0.71984877,\n",
              "        -0.02337522,  1.02147002,  0.09413232, -0.29984938,  1.10282675,\n",
              "        -0.9552819 ,  0.76340028, -0.28056555, -0.65151175],\n",
              "       [ 0.82956653, -0.02521465,  1.78653159,  0.92973184, -0.71984877,\n",
              "         1.17173439, -1.07073162, -0.41839861, -0.29984938,  1.10282675,\n",
              "        -0.9552819 ,  0.76340028, -0.28056555, -0.65151175],\n",
              "       [-1.30828304,  0.14671852,  0.24607694,  0.59171771,  1.52826732,\n",
              "         0.72556014, -1.07073162,  1.51002045,  3.91991978, -1.00638581,\n",
              "        -0.9552819 ,  0.76340028, -0.28056555, -0.65151175],\n",
              "       [ 0.82956653, -0.44147392,  0.26416801,  0.68949039,  1.52826732,\n",
              "        -1.65828518, -1.07073162,  2.69107   ,  3.91991978, -1.00638581,\n",
              "        -0.9552819 ,  0.76340028, -0.28056555, -0.65151175],\n",
              "       [-1.30828304,  1.95654141,  0.01089303,  0.32633471, -0.71984877,\n",
              "        -0.97946291, -1.07073162, -0.42868351, -0.29984938, -1.00638581,\n",
              "         1.15909238, -1.49980793, -0.28056555,  1.75078314],\n",
              "       [ 0.82956653, -0.44509356, -1.98274294, -0.53127138, -0.71984877,\n",
              "        -1.33958928,  1.02147002,  0.5638095 , -0.29984938, -1.00638581,\n",
              "         1.15909238, -1.49980793, -0.28056555,  1.75078314],\n",
              "       [ 0.82956653, -0.26049163, -0.33916919, -0.11922936, -0.71984877,\n",
              "        -0.66076702,  1.02147002, -0.37211656, -0.29984938, -1.00638581,\n",
              "         1.15909238, -1.49980793, -0.28056555,  1.75078314],\n",
              "       [ 0.82956653, -0.26049163, -1.18311762, -1.82466428, -0.71984877,\n",
              "        -0.2273406 ,  1.02147002,  0.09927477, -0.29984938, -1.00638581,\n",
              "         1.15909238, -1.49980793,  3.96367542, -0.65151175],\n",
              "       [ 0.82956653,  0.42724107,  0.39080551,  1.84879504,  1.52826732,\n",
              "        -0.89978894, -1.07073162,  0.25869075, -0.29984938,  1.10282675,\n",
              "        -0.9552819 ,  0.76340028, -0.28056555, -0.65151175],\n",
              "       [ 0.82956653, -0.26049163,  0.26416801, -0.98661273, -0.71984877,\n",
              "         0.45466862, -1.07073162, -1.86856975, -0.29984938,  1.10282675,\n",
              "        -0.9552819 ,  0.76340028, -0.28056555, -0.65151175],\n",
              "       [ 0.82956653,  0.19196409,  2.43509647, -0.98661273, -0.71984877,\n",
              "        -1.29815881,  1.02147002, -0.58124289, -0.29984938,  1.10282675,\n",
              "        -0.9552819 , -1.49980793, -0.28056555,  1.75078314],\n",
              "       [ 0.82956653, -1.16540308, -1.36402833, -0.98661273, -0.71984877,\n",
              "        -0.74044099,  1.02147002, -0.27440999, -0.29984938,  1.10282675,\n",
              "        -0.9552819 ,  0.76340028, -0.28056555, -0.65151175],\n",
              "       [-1.30828304,  1.09687554,  1.98281971, -1.26596324, -0.71984877,\n",
              "        -1.13881086, -1.07073162,  0.32382846,  3.91991978, -1.00638581,\n",
              "        -0.9552819 , -1.49980793,  3.96367542, -0.65151175],\n",
              "       [ 0.82956653, -0.26049163,  0.08325731, -0.70726221, -0.71984877,\n",
              "         1.01238644, -1.07073162,  0.33582751, -0.29984938,  1.10282675,\n",
              "        -0.9552819 ,  0.76340028, -0.28056555, -0.65151175],\n",
              "       [ 0.82956653,  1.07515767,  1.12349386,  0.34030224,  1.52826732,\n",
              "         0.16385862, -1.07073162,  0.33582751, -0.29984938,  1.10282675,\n",
              "        -0.9552819 ,  0.76340028, -0.28056555, -0.65151175],\n",
              "       [ 0.82956653, -0.17000048,  0.19180373,  0.07491925,  1.52826732,\n",
              "        -0.89978894, -1.07073162,  0.05984932, -0.29984938,  1.10282675,\n",
              "        -0.9552819 ,  0.76340028, -0.28056555, -0.65151175],\n",
              "       [-1.30828304,  0.19196409,  0.53553407, -0.00888591, -0.71984877,\n",
              "         1.33108234,  1.02147002,  1.67457888, -0.29984938,  1.10282675,\n",
              "        -0.9552819 , -1.49980793,  3.96367542, -0.65151175],\n",
              "       [ 0.82956653,  0.10147295,  1.07826618,  0.96884091,  1.52826732,\n",
              "         1.01238644,  1.02147002, -0.55553064, -0.29984938,  1.10282675,\n",
              "        -0.9552819 ,  0.76340028, -0.28056555, -0.65151175]])"
            ]
          },
          "metadata": {},
          "execution_count": 74
        }
      ]
    },
    {
      "cell_type": "code",
      "metadata": {
        "id": "umrGUo0kTLTN"
      },
      "source": [
        "error_rate = []\n",
        "\n",
        "for i in range(1,40):\n",
        "    \n",
        "    knn = KNeighborsClassifier(n_neighbors=i)\n",
        "    knn.fit(x_train,y_train)\n",
        "    pred_i = knn.predict(x_test)\n",
        "    error_rate.append(np.mean(pred_i != y_test))"
      ],
      "id": "umrGUo0kTLTN",
      "execution_count": null,
      "outputs": []
    },
    {
      "cell_type": "code",
      "metadata": {
        "colab": {
          "base_uri": "https://localhost:8080/",
          "height": 421
        },
        "id": "HzXgn0fiTLKM",
        "outputId": "4b852202-1a93-437f-d0ac-9be978124532"
      },
      "source": [
        "plt.figure(figsize=(10,6))\n",
        "plt.plot(range(1,40),error_rate,color='blue', linestyle='dashed', marker='o',\n",
        "         markerfacecolor='red', markersize=10)\n",
        "plt.title('Error Rate vs. K Value')\n",
        "plt.xlabel('K')\n",
        "plt.ylabel('Error Rate')"
      ],
      "id": "HzXgn0fiTLKM",
      "execution_count": null,
      "outputs": [
        {
          "output_type": "execute_result",
          "data": {
            "text/plain": [
              "Text(0, 0.5, 'Error Rate')"
            ]
          },
          "metadata": {},
          "execution_count": 76
        },
        {
          "output_type": "display_data",
          "data": {
            "image/png": "[encoded data removed]",
            "text/plain": [
              "<Figure size 720x432 with 1 Axes>"
            ]
          },
          "metadata": {
            "needs_background": "light"
          }
        }
      ]
    },
    {
      "cell_type": "code",
      "metadata": {
        "colab": {
          "base_uri": "https://localhost:8080/"
        },
        "id": "TG-5wCXyTume",
        "outputId": "25a18f07-eac8-465c-9277-14ee688c9736"
      },
      "source": [
        "from sklearn.metrics import confusion_matrix\n",
        "knn = KNeighborsClassifier(n_neighbors=3, metric='euclidean')\n",
        "knn.fit(x_train, y_train)\n",
        "y_pred_knn = knn.predict(x_test)\n",
        "print('Accuracy of KNN classifier on test set: {:.3f}'.format(knn.score(x_test, y_test)))\n",
        "print('Accuracy of KNN classifier on train set: {:.3f}'.format(knn.score(x_train, y_train)))"
      ],
      "id": "TG-5wCXyTume",
      "execution_count": null,
      "outputs": [
        {
          "output_type": "stream",
          "name": "stdout",
          "text": [
            "Accuracy of KNN classifier on test set: 0.767\n",
            "Accuracy of KNN classifier on train set: 0.958\n"
          ]
        }
      ]
    },
    {
      "cell_type": "markdown",
      "metadata": {
        "id": "bcFVGizOYitF"
      },
      "source": [
        "Model is overfit"
      ],
      "id": "bcFVGizOYitF"
    },
    {
      "cell_type": "code",
      "metadata": {
        "colab": {
          "base_uri": "https://localhost:8080/"
        },
        "id": "aoTifLSAYJkS",
        "outputId": "8414b87d-eb11-40d1-8f4e-293a46c963f4"
      },
      "source": [
        "confusion_matrix = confusion_matrix(y_test, y_pred_knn)\n",
        "print(\"Confusion Matrix:\\n\",confusion_matrix)\n",
        "print(\"Classification Report:\\n\",classification_report(y_test, y_pred_knn))"
      ],
      "id": "aoTifLSAYJkS",
      "execution_count": null,
      "outputs": [
        {
          "output_type": "stream",
          "name": "stdout",
          "text": [
            "Confusion Matrix:\n",
            " [[ 9  6]\n",
            " [ 4 24]]\n",
            "Classification Report:\n",
            "               precision    recall  f1-score   support\n",
            "\n",
            "           0       0.69      0.60      0.64        15\n",
            "           1       0.80      0.86      0.83        28\n",
            "\n",
            "    accuracy                           0.77        43\n",
            "   macro avg       0.75      0.73      0.74        43\n",
            "weighted avg       0.76      0.77      0.76        43\n",
            "\n"
          ]
        }
      ]
    },
    {
      "cell_type": "markdown",
      "metadata": {
        "id": "xnJNrC3zYnO-"
      },
      "source": [
        "Precision and accuracy both are low. Therefore this model is not good."
      ],
      "id": "xnJNrC3zYnO-"
    },
    {
      "cell_type": "markdown",
      "metadata": {
        "id": "qPlQXPj_gwpR"
      },
      "source": [
        "#**Conclusion**\n",
        "Comparing all the applied models, it is evident the SVM is performing the best with a precision and accuracy score of 0.96 and 0.91 respectively. The AUC of SVM is also the highest. Hence, we choose SVM as our final model.\n",
        "\n",
        "**Other Findings**\n",
        "1.\tType of board does not play any part in the scope of getting placed.\n",
        "\n",
        "2.\tThere are no gender discrimination while hiring, but higher packages were given to male.\n",
        "\n",
        "3.\tSurprisingly, educational percentages are highly influential for a candidate to get placed – especially 10th and 12th class percentages.\n",
        "\n",
        "4.\tMBA in Marketing and Finance pays higher than MBA in Marketing and HR.\n"
      ],
      "id": "qPlQXPj_gwpR"
    }
  ]
}